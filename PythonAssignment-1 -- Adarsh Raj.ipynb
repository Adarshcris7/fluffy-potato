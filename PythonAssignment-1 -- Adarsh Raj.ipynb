{
 "cells": [
  {
   "cell_type": "markdown",
   "metadata": {},
   "source": [
    "Q1. Why do we call Python as a general purpose and high-level programming language?\n",
    "\n",
    "Ans - Python is called a general purose and high-level programming language because of its easy to read and comprehend format. High-level proramming language are closer to natural language like English \n",
    "\n",
    "Q2. Why is Python called a dynamically typed language?\n",
    "\n",
    "Ans - It is called a dynamically typed language because the interpretor determines the type of the initiated varible only during runtime.\n",
    "\n",
    "Q3. List some pros and cons of Python programming language?\n",
    "\n",
    "Ans - Pros: \n",
    "a) easy to learn & understand high level programming language\n",
    "b) dynamic and portable\n",
    "c) diverse applications in almost all domains, eg - web structures, gaming apps, data science & ML/AI, fullstack engineering etc\n",
    "d) extensive support for libraries & packages\n",
    "e) enhanced intergration with other tools like MySQL, Spark, C++, Java etc.\n",
    "\n",
    "Cons:\n",
    "a) due to flexibility in data types, python has a relatively larger memory consumption\n",
    "b) being a high level language, it is distant to machine level language and thus makes it less efficient when it comes to processing time\n",
    "b) its easy to read and understand nature might prove difficult for coders to learn/adapt to much complex programming languages in future as they get accustomed to it\n",
    "\n",
    "\n",
    "Q4. In what all domains can we use Python?\n",
    "\n",
    "Ans - It can be used in multiple domains listed below but not limited to -\n",
    "a) Machine learning and AI\n",
    "b) Data Analytics & Visualization\n",
    "c) Web development \n",
    "d) Game development\n",
    "e) Embedded Systems & IOT\n",
    "f) Software development\n",
    "\n",
    "Q5. What are variable and how can we declare them?\n",
    "\n",
    "Ans - Variables are declarables which can be defined in python and they store values. They are basically container for storing data values and points to a specific memory location. It can be either be string variable or numeric variable or float (decimal) variable.\n",
    "Declaring a varibale is very easy in Python and can be done in the following steps -\n",
    "a) define the varible\n",
    "b) assign a value to it\n",
    "\n",
    "Using above two steps, one can create and declare a variable in Python.\n",
    "\n",
    "Q6. How can we take an input from the user in Python?\n",
    "\n",
    "Ans - To take an input from user in Python, we have to use predefined 'input()' function. \n",
    "\n",
    "Q7. What is the default datatype of the value that has been taken as an input using input() function?\n",
    "\n",
    "Ans - String\n",
    "\n",
    "Q8. What is type casting?\n",
    "\n",
    "Ans - Type casting is used to convert one datatype to another datatype. Multiple predefined functions are there in Python for this - int(), float(), set(), etc.\n",
    "For ex- by using typecasting you can change a variable which stores 38 as an integer to a different type which is specified by the user. \n",
    "\n",
    "Q9. Can we take more than one input from the user using single input() function? If yes, how? If no, why?\n",
    "\n",
    "Ans - We can take more than one input using single input() function. For this we can ask the user to provide the multiple input he has separated by a comma (or any different delimiter). Laer on, we can\n",
    "use inbuilt split() function to split the input string at each comma.\n",
    "In a scenario where a Python is supposed to take a limited and relatively smaller amount of input from the user, a user can use split() function in series with input function. But for this we need to initiate the required number of variables accordingly.\n",
    "\n",
    "Q10. What are keywords?\n",
    "\n",
    "Ans - Keywords are those specially reserved words which are used in prior by the Python language to have some meaning or to define the syntax of the code. User won't be able to use any keywords as a \n",
    "variable, user-defined functions etc.\n",
    "\n",
    "Q11. Can we use keywords as a variable? Support your answer with reason.\n",
    "\n",
    "Ans - As stated above, keywords can not be used as a variable. The reason for this is that they are predefined and have meaning to the structure and syntax of Python language.\n",
    "\n",
    "Q12. What is indentation? What's the use of indentaion in Python?\n",
    "\n",
    "Ans - Indentation is used to create whitespace at the start of code line. It is done so to -\n",
    "a) identify a block of code \n",
    "b) have easier readability\n",
    "\n",
    "Q13. How can we throw some output in Python?\n",
    "\n",
    "Ans - By using predefined print() function\n",
    "\n",
    "Q14. What are operators in Python?\n",
    "\n",
    "Ans - Operators are special symbolic characters in Python which are used to preform different calculations or operations. Different type of operators - Arithmetic, Logical, Assignment, Bitwise, Comparison, etc.\n",
    "\n",
    "Q15. What is difference between / and // operators?\n",
    "\n",
    "Ans - Operator / provides the output as a normal division. output data type is float regardless of data type of operands\n",
    "Operator // provide the ouput as a floor division i.e., quotient is returned when using // operator. output data type can be int or float depending on the initial values of operands"
   ]
  },
  {
   "cell_type": "markdown",
   "metadata": {},
   "source": [
    "Q16. Write a code that gives following as an output."
   ]
  },
  {
   "cell_type": "code",
   "execution_count": null,
   "metadata": {},
   "outputs": [],
   "source": [
    "print(\"iNeuron\" * 4)"
   ]
  },
  {
   "cell_type": "markdown",
   "metadata": {},
   "source": [
    "Q17. Write a code to take a number as an input from the user and check if the number is odd or even."
   ]
  },
  {
   "cell_type": "code",
   "execution_count": null,
   "metadata": {},
   "outputs": [],
   "source": [
    "x = int(input(\"Provide the number: \"))\n",
    "\n",
    "if x%2 == 0:\n",
    "  print(\"The given number is even\")\n",
    "else:\n",
    "  print(\"The given number is odd\")"
   ]
  },
  {
   "cell_type": "markdown",
   "metadata": {},
   "source": [
    "Q18. What are boolean operator?\n",
    "\n",
    "Ans - The logical operators 'and', 'or' and 'not' are also referred to as boolean operators. They are used to perform conditional operations and to return the output as either TRUE or FALSE depending on whether the conditions are met or not."
   ]
  },
  {
   "cell_type": "markdown",
   "metadata": {},
   "source": [
    "Q19. What will the output of the following?\n",
    "\n",
    "```\n",
    "1 or 0 \n",
    "\n",
    "0 and 0\n",
    "\n",
    "True and False and True\n",
    "\n",
    "1 or 0 or 0\n",
    "\n",
    "```"
   ]
  },
  {
   "cell_type": "code",
   "execution_count": null,
   "metadata": {},
   "outputs": [],
   "source": [
    "# Ans - The output of the above logical computations are shown below -\n",
    "\n",
    "print(1 or 0)\n",
    "print( 0 and 0)\n",
    "print(True and False and True)\n",
    "print(1 or 0 or 0)"
   ]
  },
  {
   "cell_type": "markdown",
   "metadata": {},
   "source": [
    "Q20. What are conditional statements in Python?\n",
    "\n",
    "Ans - Conditional statements are used to guide the Python program in deciding the outcome of a given statement depending on the conditions encountered by the program. In short, it is used to handle conditions. There are three major condition handling statement types in python - 'if', 'if-else', 'nested if-else'\n",
    "\n",
    "Q21. What is use of 'if', 'elif' and 'else' keywords?\n",
    "\n",
    "Ans - 'if', 'elif', 'else' are called conditional statement keywords and are used to direct the flow of Python program. They help in decision making based on the multiple conditions that are mentioned in the program. Based on whether the mentioned conditions are met or not, the respective statements will be executed.\n"
   ]
  },
  {
   "cell_type": "markdown",
   "metadata": {},
   "source": [
    "Q22. Write a code to take the age of person as an input and if age >= 18 display \"I can vote\". If age is < 18 display \"I can't vote\"."
   ]
  },
  {
   "cell_type": "code",
   "execution_count": null,
   "metadata": {},
   "outputs": [],
   "source": [
    "x = int(input(\"Provide your age: \"))\n",
    "\n",
    "if x >=18:\n",
    "  print(\"I can vote\")\n",
    "else:\n",
    "  print(\"I can't vote\")"
   ]
  },
  {
   "cell_type": "markdown",
   "metadata": {},
   "source": [
    "Q23. Write a code that displays the sum of all the even numbers from the given list.\n",
    "```\n",
    "numbers = [12, 75, 150, 180, 145, 525, 50]\n",
    "```"
   ]
  },
  {
   "cell_type": "code",
   "execution_count": null,
   "metadata": {},
   "outputs": [],
   "source": [
    "numbers = [12, 75, 150, 180, 145, 525, 50]\n",
    "sum = 0\n",
    "for i in numbers:\n",
    "  sum = sum + i\n",
    "\n",
    "print(sum) "
   ]
  },
  {
   "cell_type": "markdown",
   "metadata": {},
   "source": [
    "Q24. Write a code to take 3 numbers as an input from the user and display the greatest no as output."
   ]
  },
  {
   "cell_type": "code",
   "execution_count": null,
   "metadata": {},
   "outputs": [],
   "source": [
    "x,y,z = (input(\"Provide any three numbers: \")).split()\n",
    "\n",
    "x = int(x) \n",
    "y = int(y)\n",
    "z = int(z)\n",
    "\n",
    "if x > y and x > z:\n",
    "  print(x, \"is the largest\")\n",
    "elif y > x and y > z:\n",
    "  print(y, \"is the largest\")\n",
    "else:\n",
    "  print(z, \"is the largest\")"
   ]
  },
  {
   "cell_type": "markdown",
   "metadata": {},
   "source": [
    "Q25. Write a program to display only those numbers from a list that satisfy the following conditions\n",
    "\n",
    "- The number must be divisible by five\n",
    "\n",
    "- If the number is greater than 150, then skip it and move to the next number\n",
    "\n",
    "- If the number is greater than 500, then stop the loop\n",
    "```\n",
    "numbers = [12, 75, 150, 180, 145, 525, 50]\n",
    "```"
   ]
  },
  {
   "cell_type": "code",
   "execution_count": null,
   "metadata": {},
   "outputs": [],
   "source": [
    "numbers = [12, 75, 150, 180, 501, 145, 50]\n",
    "\n",
    "for i in numbers:\n",
    "  if i > 500:\n",
    "    break\n",
    "  if i > 150:\n",
    "    continue  \n",
    "  if i % 5 == 0:\n",
    "      print(i)"
   ]
  }
 ],
 "metadata": {
  "kernelspec": {
   "display_name": "Python 3.9.7 ('base')",
   "language": "python",
   "name": "python3"
  },
  "language_info": {
   "codemirror_mode": {
    "name": "ipython",
    "version": 3
   },
   "file_extension": ".py",
   "mimetype": "text/x-python",
   "name": "python",
   "nbconvert_exporter": "python",
   "pygments_lexer": "ipython3",
   "version": "3.9.7"
  },
  "orig_nbformat": 4,
  "vscode": {
   "interpreter": {
    "hash": "6f5583cf1d9466b5c27e75c89cc6b383bed5736d6b16c51c8074d8690011a952"
   }
  }
 },
 "nbformat": 4,
 "nbformat_minor": 2
}
