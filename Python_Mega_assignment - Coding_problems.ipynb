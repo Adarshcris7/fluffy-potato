{
  "cells": [
    {
      "cell_type": "markdown",
      "source": [
        "\n",
        "## **Name - Adarsh Raj**\n",
        "\n",
        "## **Email - ada.raj96@gmail.com**"
      ],
      "metadata": {
        "id": "6Il5f7lN8Tit"
      }
    },
    {
      "cell_type": "code",
      "execution_count": null,
      "metadata": {
        "colab": {
          "base_uri": "https://localhost:8080/"
        },
        "id": "50NXuJwT9119",
        "outputId": "9f6a8be2-573f-40a4-b37f-b29e6c8381ca"
      },
      "outputs": [
        {
          "name": "stdout",
          "output_type": "stream",
          "text": [
            "Please provide your number: 1\n",
            "Factorial of 1 is 1\n"
          ]
        }
      ],
      "source": [
        "# Q76. Write a Python program to find the factorial of a given number.\n",
        "\n",
        "x = int(input(\"Please provide your number: \"))\n",
        "\n",
        "if x < 0:\n",
        "    print(\"Factorial of negative number does not exist. Provide a positive integer\")\n",
        "if x == 0:\n",
        "    print(\"Factorial of 0 is 1\")\n",
        "if x >= 1:\n",
        "  fact = 1\n",
        "  for i in range(1, x+1):\n",
        "    fact = fact * i\n",
        "  print(\"Factorial of\", x, \"is\", fact)"
      ]
    },
    {
      "cell_type": "code",
      "execution_count": null,
      "metadata": {
        "colab": {
          "base_uri": "https://localhost:8080/"
        },
        "id": "2dXj-yN2AcEQ",
        "outputId": "49cba629-6412-412f-ba1e-6da88b175242"
      },
      "outputs": [
        {
          "name": "stdout",
          "output_type": "stream",
          "text": [
            "Provide your principal amount: 1000\n",
            "Provide your yearly rate of interest: 12\n",
            "Provide your time period in years: 5\n",
            "The simple interest based on the values provided will be 600.0\n"
          ]
        }
      ],
      "source": [
        "# Q77. Write a Python program to calculate the simple interest. Formula to calculate simple interest is SI = (P*R*T)/100\n",
        "\n",
        "p = int(input(\"Provide your principal amount: \"))\n",
        "r = int(input(\"Provide your yearly rate of interest: \"))\n",
        "t = int(input(\"Provide your time period in years: \"))\n",
        "\n",
        "print(\"The simple interest based on the values provided will be\", ((p*r*t)/100))"
      ]
    },
    {
      "cell_type": "code",
      "execution_count": null,
      "metadata": {
        "colab": {
          "base_uri": "https://localhost:8080/"
        },
        "id": "gi2WObA3B8jm",
        "outputId": "7b939668-3228-49ca-9790-20f776e499ac"
      },
      "outputs": [
        {
          "name": "stdout",
          "output_type": "stream",
          "text": [
            "Provide your principal amount: 1000\n",
            "Provide your yearly rate of interest: 12\n",
            "Provide your time period in years: 5\n",
            "The compound interest based on the values provided will be 1762.34\n"
          ]
        }
      ],
      "source": [
        "# Q78. Write a Python program to calculate the compound interest. Formula of compound interest is A = P(1+ R/100)^t.\n",
        "\n",
        "p = int(input(\"Provide your principal amount: \"))\n",
        "r = int(input(\"Provide your yearly rate of interest: \"))\n",
        "t = int(input(\"Provide your time period in years: \"))\n",
        "\n",
        "print(\"The compound interest based on the values provided will be\", round((p*(1+ r/100)**t), 2))"
      ]
    },
    {
      "cell_type": "code",
      "execution_count": null,
      "metadata": {
        "colab": {
          "base_uri": "https://localhost:8080/"
        },
        "id": "Cc8b-B0wC5Ln",
        "outputId": "8dc69d47-5a5c-418a-83aa-b16c10e088b4"
      },
      "outputs": [
        {
          "name": "stdout",
          "output_type": "stream",
          "text": [
            "Please provide your number: 45\n",
            "The provided number is odd\n"
          ]
        }
      ],
      "source": [
        "# Q79. Write a Python program to check if a number is prime or not.\n",
        "\n",
        "x = int(input(\"Please provide your number: \"))\n",
        "\n",
        "if x % 2 == 0:\n",
        "  print(\"The provided number is even\")\n",
        "else:\n",
        "  print(\"The provided number is odd\")"
      ]
    },
    {
      "cell_type": "code",
      "execution_count": null,
      "metadata": {
        "colab": {
          "base_uri": "https://localhost:8080/"
        },
        "id": "eU1wNPLNDCp2",
        "outputId": "81643a3a-ebfa-4b44-e3f4-bab1e25d9d0f"
      },
      "outputs": [
        {
          "name": "stdout",
          "output_type": "stream",
          "text": [
            "Please provide your three digit number: 862\n",
            "This number is not an Armstrong number\n"
          ]
        }
      ],
      "source": [
        "# Q80. Write a Python program to check Armstrong Number.\n",
        "\n",
        "x = input(\"Please provide your three digit number: \")\n",
        "\n",
        "x1, x2, x3 = int(x[0]), int(x[1]), int(x[2])\n",
        "\n",
        "arm_num = x1**3 + x2**3 + x3**3\n",
        "\n",
        "if arm_num == int(x):\n",
        "  print(\"The provided number is an Armstrong number\")\n",
        "else:\n",
        "  print(\"This number is not an Armstrong number\")"
      ]
    },
    {
      "cell_type": "code",
      "execution_count": null,
      "metadata": {
        "colab": {
          "base_uri": "https://localhost:8080/"
        },
        "id": "6CvVs_MJHHPn",
        "outputId": "6dd2606b-1599-4cdf-afe6-fca67b2f5611"
      },
      "outputs": [
        {
          "name": "stdout",
          "output_type": "stream",
          "text": [
            "Provide the integer place for the fibonacci number: 5\n"
          ]
        },
        {
          "data": {
            "text/plain": [
              "3"
            ]
          },
          "execution_count": 43,
          "metadata": {},
          "output_type": "execute_result"
        }
      ],
      "source": [
        "# Q81. Write a Python program to find the n-th Fibonacci Number.\n",
        "\n",
        "x = int(input(\"Provide the integer place for the fibonacci number: \"))\n",
        "\n",
        "f0 = 0 #fibonacci number for initial place is zero\n",
        "f1 = 1 #fibonacci number for 2nd place is 1 \n",
        "\n",
        "# Above two variables needs to defined which expresses the fibonacci number for zeroth and first number in the series.\n",
        "\n",
        "def fib(x):\n",
        "  if x == 0 or x < 0:\n",
        "    return 'Incorrect number, Provide non-zero and non-negative number'\n",
        "  elif x == 1:\n",
        "    return f0\n",
        "  elif x == 2:\n",
        "    return f1\n",
        "  elif x > 2:\n",
        "    return(fib(x-1)+fib(x-2))\n",
        "\n",
        "fib(x)"
      ]
    },
    {
      "cell_type": "code",
      "execution_count": null,
      "metadata": {
        "colab": {
          "base_uri": "https://localhost:8080/"
        },
        "id": "TnPy9jSBUddU",
        "outputId": "0bce3a0e-2942-48bd-b5c5-7548ab21090c"
      },
      "outputs": [
        {
          "name": "stdout",
          "output_type": "stream",
          "text": [
            "provide your input for the list separated by a comma: 6, 7, 8, 9, 0, 65\n",
            "The length of the list as per your input is  6\n"
          ]
        },
        {
          "data": {
            "text/plain": [
              "[' 65', ' 7', ' 8', ' 9', ' 0', '6']"
            ]
          },
          "execution_count": 45,
          "metadata": {},
          "output_type": "execute_result"
        }
      ],
      "source": [
        "# Q82. Write a Python program to interchange the first and last element in a list.\n",
        "\n",
        "x = []\n",
        "x = (input(\"Provide your input for the list separated by a comma: \")).split(',')\n",
        "\n",
        "print(\"The length of the list as per your input is \", len(x))\n",
        "\n",
        "def exchange(x):\n",
        "  a = x[0]\n",
        "  b = x[-1]\n",
        "  x[0] = b\n",
        "  x[-1] = a\n",
        "  return x\n",
        "\n",
        "exchange(x)"
      ]
    },
    {
      "cell_type": "code",
      "execution_count": null,
      "metadata": {
        "colab": {
          "base_uri": "https://localhost:8080/"
        },
        "id": "Q_eweUxzW-uc",
        "outputId": "5bf67732-a8ba-4c0d-a41d-87f39b6299c1"
      },
      "outputs": [
        {
          "name": "stdout",
          "output_type": "stream",
          "text": [
            "provide your input for the list separated by a comma: 5, 7, 43, 34, 67\n",
            "The length of the list as per your input is  5\n",
            "Provide which two places you would like to swap in the given list: 2, 3\n",
            "The original list is:  ['5', ' 7', ' 43', ' 34', ' 67']\n",
            "The list with swappedplaces is:  ['5', ' 43', ' 7', ' 34', ' 67']\n"
          ]
        }
      ],
      "source": [
        "# Q83. Write a Python program to swap two elements in a list.\n",
        "\n",
        "x = []\n",
        "x = (input(\"provide your input for the list separated by a comma: \")).split(',')\n",
        "print(\"The length of the list as per your input is \", len(x))\n",
        "\n",
        "a, b = input(\"Provide which two places you would like to swap in the given list: \").split(',')\n",
        "a = int(a)\n",
        "b = int(b)\n",
        "\n",
        "def swap(x):\n",
        "  x1 = x[a-1]\n",
        "  x2 = x[b-1]\n",
        "  x[a-1] = x2\n",
        "  x[b-1] = x1\n",
        "  return x\n",
        "\n",
        "print(\"The original list is: \", x)\n",
        "print(\"The list with swappedplaces is: \", swap(x))"
      ]
    },
    {
      "cell_type": "code",
      "execution_count": null,
      "metadata": {
        "colab": {
          "base_uri": "https://localhost:8080/"
        },
        "id": "cDdD3BqXdAdr",
        "outputId": "535eefdb-d9c1-4be9-d9fb-6744f2b4d5c9"
      },
      "outputs": [
        {
          "name": "stdout",
          "output_type": "stream",
          "text": [
            "Provide comma separated numbers for your list: 2, 3, 5, 4, 45, 33, 77, 23, 99\n",
            "How many largest numbers would you like find in the list: 5\n",
            "List of your 5 largest digits from the given list is/are:\n",
            "99\n",
            "77\n",
            "45\n",
            "33\n",
            "23\n"
          ]
        }
      ],
      "source": [
        "# Q84. Write a Python program to find N largest element from a list.\n",
        "\n",
        "x = [int(x) for x in input(\"Provide comma separated numbers for your list: \").split(',')]\n",
        "n = int(input(\"How many largest numbers would you like find in the list: \"))\n",
        "\n",
        "max_list = []\n",
        "\n",
        "for i in range(0, n):\n",
        "  a = 0\n",
        "  for j in range(len(x)):    \n",
        "    if x[j] > a:\n",
        "      a = x[j];\n",
        "  \n",
        "  max_list.append(a)\n",
        "  x.remove(a)\n",
        "\n",
        "print(\"List of your\", n, \"largest digits from the given list is/are:\")\n",
        "for i in max_list:\n",
        "  print(i)"
      ]
    },
    {
      "cell_type": "code",
      "execution_count": null,
      "metadata": {
        "colab": {
          "base_uri": "https://localhost:8080/"
        },
        "id": "CkTEJoTatJpE",
        "outputId": "32161e1d-b118-448d-8021-f0bb14c25d63"
      },
      "outputs": [
        {
          "name": "stdout",
          "output_type": "stream",
          "text": [
            "Provide comma separated numbers for your list: 2, 3, 5, 4, 45, 33, 77, 23, 99\n",
            "The cummulative sum of given list is: [2, 5, 10, 14, 59, 92, 169, 192, 291]\n"
          ]
        }
      ],
      "source": [
        "# Q85. Write a Python program to find cumulative sum of a list.\n",
        "\n",
        "x = [int(x) for x in input(\"Provide comma separated numbers for your list: \").split(',')]\n",
        "y = []\n",
        "\n",
        "def cumm_list(x):\n",
        "  initial_sum = 0\n",
        "  for i in x:\n",
        "    initial_sum = initial_sum + i\n",
        "    y.append(initial_sum)\n",
        "\n",
        "  return y\n",
        "\n",
        "print(\"The cummulative sum of given list is:\",cumm_list(x))"
      ]
    },
    {
      "cell_type": "code",
      "execution_count": null,
      "metadata": {
        "colab": {
          "base_uri": "https://localhost:8080/"
        },
        "id": "oqrcrN-wxfok",
        "outputId": "88f0f9d6-2f64-43f6-9d8a-e22ca9487fde"
      },
      "outputs": [
        {
          "name": "stdout",
          "output_type": "stream",
          "text": [
            "Provide your string for palindrome check: bananab\n",
            "Given string is a palindrome\n"
          ]
        }
      ],
      "source": [
        "# Q86. Write a Python program to check if a string is palindrome or not.\n",
        "\n",
        "x = input(\"Provide your string for palindrome check: \")\n",
        "forward_x = []\n",
        "backward_x = []\n",
        "\n",
        "for i in x:\n",
        "  forward_x.append(i)\n",
        "\n",
        "for j in reversed(x):\n",
        "  backward_x.append(j)\n",
        "\n",
        "if forward_x == backward_x:\n",
        "  print(\"Given string is a palindrome\")\n",
        "else:\n",
        "  print(\"Sorry, the given string isn't a palindrome\")"
      ]
    },
    {
      "cell_type": "code",
      "execution_count": null,
      "metadata": {
        "colab": {
          "base_uri": "https://localhost:8080/"
        },
        "id": "EFfrFjRQym8r",
        "outputId": "eb621e4c-b04c-4249-bac9-8c4aba0abc70"
      },
      "outputs": [
        {
          "name": "stdout",
          "output_type": "stream",
          "text": [
            "Provide your string: adarsh\n",
            "Which element would you like to remove: 3\n",
            "Modified string: adrsh\n"
          ]
        }
      ],
      "source": [
        "# Q87. Write a Python program to remove i'th element from a string.\n",
        "\n",
        "x = input(\"Provide your string: \")\n",
        "y = int(input(\"Which element would you like to remove: \"))\n",
        "\n",
        "list_x = []\n",
        "\n",
        "#stripping i-th element\n",
        "if y > len(x):\n",
        "  print(\"Element is out of string's context. Please provide an integer which is smaller than string's length\")\n",
        "else:\n",
        "  for i in x:\n",
        "    list_x.append(i)\n",
        "  list_x.pop(y-1)\n",
        "  str_x = \"\".join([str(elem) for elem in list_x])\n",
        "  # str_x.join(list_x)\n",
        "  print(\"Modified string:\", str_x)"
      ]
    },
    {
      "cell_type": "code",
      "execution_count": null,
      "metadata": {
        "id": "nrbFLF7C2SRK",
        "colab": {
          "base_uri": "https://localhost:8080/"
        },
        "outputId": "a32abd01-a4b3-476f-ba76-60e6f76befba"
      },
      "outputs": [
        {
          "output_type": "stream",
          "name": "stdout",
          "text": [
            "Provide your string: Python mega assignment\n",
            "Provide your sub-string: ass\n",
            "Yes, the given substring is present in the main string\n",
            "Yes, the given substring is present in the main string\n"
          ]
        }
      ],
      "source": [
        "# Q88. Write a Python program to check if a substring is present in a given string.\n",
        "\n",
        "x = input(\"Provide your string: \")\n",
        "y = input(\"Provide your sub-string: \")\n",
        "\n",
        "\n",
        "# Method 1 -- Using regex module\n",
        "\n",
        "import re\n",
        "\n",
        "if re.search(y, x):\n",
        "  print(\"Yes, the given substring is present in the main string\")\n",
        "else:\n",
        "  print(\"Sorry, there is no match\")\n",
        "\n",
        "\n",
        "# Method 2 -- Using simple if-else\n",
        "\n",
        "if y in x:\n",
        "  print(\"Yes, the given substring is present in the main string\")\n",
        "else:\n",
        "  print(\"Sorry, there is no match\")"
      ]
    },
    {
      "cell_type": "code",
      "execution_count": null,
      "metadata": {
        "colab": {
          "base_uri": "https://localhost:8080/"
        },
        "id": "jPCZ3wOnx9bZ",
        "outputId": "bafaa20a-eb9e-4b9c-cace-3b341dd9b0fb"
      },
      "outputs": [
        {
          "output_type": "stream",
          "name": "stdout",
          "text": [
            "Provide your string/sentence with minimum one word: Python mega assignment\n",
            "Provide the minimum given length required: 4\n",
            "Modified string is: Python assignment\n"
          ]
        }
      ],
      "source": [
        "# Q89. Write a Python program to find words which are greater than given length k.\n",
        "\n",
        "x = [x for x in input(\"Provide your string/sentence with minimum one word: \").split(' ')]\n",
        "y = int(input(\"Provide the minimum given length required: \"))\n",
        "modified_list = []\n",
        "\n",
        "for i in x:\n",
        "  if len(i) > y:\n",
        "    modified_list.append(i)\n",
        "\n",
        "print(\"Modified string is:\", \" \".join(modified_list))"
      ]
    },
    {
      "cell_type": "code",
      "source": [
        "# Q90. Write a Python program to extract unquire dictionary values.\n",
        "\n",
        "dict = {'A' : [11, 7, 5, 1, 10, 12, 14],\n",
        "            'B' : [5, 1, 3, 87],\n",
        "            'C' : [6, 12, 32, 78],\n",
        "            'D' : [87, 0, 78, 12]}\n",
        " \n",
        "\n",
        "print(\"The original dictionary is : \" + str(dict))\n",
        " \n",
        "x=[]\n",
        "\n",
        "for i in dict.keys():\n",
        "    x.extend(dict[i])\n",
        "x=list(set(x))\n",
        "print(\"The list of unique values from the above list: \" + str(x))\n",
        "x.sort()\n",
        "print(\"The list of 'sorted' unique values from the above list: \" + str(x))"
      ],
      "metadata": {
        "colab": {
          "base_uri": "https://localhost:8080/"
        },
        "id": "SjL2A3vr3UOv",
        "outputId": "ee310ce5-642e-4f59-8278-054d27cdc117"
      },
      "execution_count": null,
      "outputs": [
        {
          "output_type": "stream",
          "name": "stdout",
          "text": [
            "The original dictionary is : {'A': [11, 7, 5, 1, 10, 12, 14], 'B': [5, 1, 3, 87], 'C': [6, 12, 32, 78], 'D': [87, 0, 78, 12]}\n",
            "The list of unique values from the above list: [32, 1, 0, 3, 5, 6, 7, 10, 11, 12, 14, 78, 87]\n",
            "The list of 'sorted' unique values from the above list: [0, 1, 3, 5, 6, 7, 10, 11, 12, 14, 32, 78, 87]\n"
          ]
        }
      ]
    },
    {
      "cell_type": "code",
      "source": [
        "# Q91. Write a Python program to merge two dictionary.\n",
        "\n",
        "dict1 = {'a': 100, 'b': 200}\n",
        "dict2 = {'c': 6, 'd': 400, 'e': 500, 'b': 600}\n",
        "\n",
        "\n",
        "def Merge(dict1, dict2):\n",
        "    for i in dict2.keys():\n",
        "        dict1[i]=dict2[i]\n",
        "    return dict1\n",
        "\n",
        "dict3 = Merge(dict1, dict2)     \n",
        "print(dict3)\n",
        "\n",
        "#if there are any instance where a key is common in both the dictionaries then this code will update the value of the key with the one found in later dictionary"
      ],
      "metadata": {
        "colab": {
          "base_uri": "https://localhost:8080/"
        },
        "id": "ngH7ClPXL6LP",
        "outputId": "54310024-660f-41b6-e158-a12e5ca7eb97"
      },
      "execution_count": null,
      "outputs": [
        {
          "output_type": "stream",
          "name": "stdout",
          "text": [
            "{'a': 100, 'b': 600, 'c': 6, 'd': 400, 'e': 500}\n"
          ]
        }
      ]
    },
    {
      "cell_type": "code",
      "source": [
        "# Q92. Write a Python program to convert a list of tuples into dictionary.\n",
        "# ```\n",
        "# Input : [('Sachin', 10), ('MSD', 7), ('Kohli', 18), ('Rohit', 45)]\n",
        "# Output : {'Sachin': 10, 'MSD': 7, 'Kohli': 18, 'Rohit': 45}\n",
        "# ```\n",
        "\n",
        "\n",
        "input_list = [('Sachin', 10), ('MSD', 7), ('Kohli', 18), ('Rohit', 45)]\n",
        "output_dict = {}\n",
        "\n",
        "for (key, value) in input_list:\n",
        "  output_dict[key] = value\n",
        "\n",
        "print(\"Dictionary generated for the provided input: \", output_dict)"
      ],
      "metadata": {
        "colab": {
          "base_uri": "https://localhost:8080/"
        },
        "id": "sVBVp5ofM8Dg",
        "outputId": "1fd2eed5-071b-4484-c075-3dceb6367624"
      },
      "execution_count": null,
      "outputs": [
        {
          "output_type": "stream",
          "name": "stdout",
          "text": [
            "Dictionary generated for the provided input:  {'Sachin': 10, 'MSD': 7, 'Kohli': 18, 'Rohit': 45}\n"
          ]
        }
      ]
    },
    {
      "cell_type": "code",
      "source": [
        "# Q93. Write a Python program to create a list of tuples from given list having number and its cube in each tuple.\n",
        "# ```\n",
        "# Input: list = [9, 5, 6]\n",
        "# Output: [(9, 729), (5, 125), (6, 216)]\n",
        "# ```\n",
        "\n",
        "\n",
        "x = [int(x) for x in input(\"Provide numbers for the list separated by comma: \").split(',')]\n",
        "dict = {}\n",
        "\n",
        "for i in x:\n",
        "  dict[i] = i*i*i\n",
        "\n",
        "print(\"Dictionary generated for the provided input: \", dict)"
      ],
      "metadata": {
        "colab": {
          "base_uri": "https://localhost:8080/"
        },
        "id": "pDnL2ExGQPJz",
        "outputId": "e98885bd-221a-4830-ae3b-e13a75f25b6e"
      },
      "execution_count": 2,
      "outputs": [
        {
          "output_type": "stream",
          "name": "stdout",
          "text": [
            "Provide numbers for the list separated by comma: 5, 6, 4, 2, 8, 13\n",
            "Dictionary generated for the provided input:  {5: 125, 6: 216, 4: 64, 2: 8, 8: 512, 13: 2197}\n"
          ]
        }
      ]
    },
    {
      "cell_type": "code",
      "source": [
        "# Q94. Write a Python program to get all combinations of 2 tuples.\n",
        "# ```\n",
        "# Input : test_tuple1 = (7, 2), test_tuple2 = (7, 8)\n",
        "# Output : [(7, 7), (7, 8), (2, 7), (2, 8), (7, 7), (7, 2), (8, 7), (8, 2)]\n",
        "# ```\n",
        "\n",
        "x = tuple([int(x) for x in input(\"Provide numbers for the tuple-1 separated by comma: \").split(',')])\n",
        "y = tuple([int(y) for y in input(\"Provide numbers for the tuple-2 separated by comma: \").split(',')])\n",
        "\n",
        "tup = ()\n",
        "\n",
        "list_1 = [(a,b) for a in x for b in y]\n",
        "list_2 = [(a,b) for a in y for b in x]\n",
        "\n",
        "final_list = list_1 + list_2\n",
        "\n",
        "print(\"List of tuples with all combinations possible for the provided input: \", final_list)"
      ],
      "metadata": {
        "colab": {
          "base_uri": "https://localhost:8080/"
        },
        "id": "044e9r3jwX5D",
        "outputId": "c9834eb4-c093-48fc-ed91-673e2b9415bd"
      },
      "execution_count": 4,
      "outputs": [
        {
          "output_type": "stream",
          "name": "stdout",
          "text": [
            "Provide numbers for the tuple-1 separated by comma: 1, 3, 5\n",
            "Provide numbers for the tuple-2 separated by comma: 11, 13, 15\n",
            "List of tuples with all combinations possible for the provided input:  [(1, 11), (1, 13), (1, 15), (3, 11), (3, 13), (3, 15), (5, 11), (5, 13), (5, 15), (11, 1), (11, 3), (11, 5), (13, 1), (13, 3), (13, 5), (15, 1), (15, 3), (15, 5)]\n"
          ]
        }
      ]
    },
    {
      "cell_type": "code",
      "source": [
        "# Q95. Write a Python program to sort a list of tuples by second item.\n",
        "# ```\n",
        "# Input : [('for', 24), ('Geeks', 8), ('Geeks', 30)] \n",
        "# Output : [('Geeks', 8), ('for', 24), ('Geeks', 30)]\n",
        "# ```\n",
        "\n",
        "x = [x for x in input(\"Provide character entries for the tuple separated by comma: \").split(', ')]\n",
        "y = [int(y) for y in input(\"Provide numbers for the tuple separated by comma. Ensure to keep the count as same as number of characters entered before: \").split(',')]\n",
        "\n",
        "input_list = []\n",
        "for i in range(len(x)):\n",
        "  add = [(x[i], y[i])]\n",
        "  input_list = input_list + add\n",
        "\n",
        "print(\"Initial input list as per your input will be: \", input_list)\n",
        "\n",
        "def sort_tup(input_list):\n",
        "  for i in range(len(input_list)):\n",
        "    for j in range(0, len(input_list)-i-1):\n",
        "      if (input_list[j][1] > input_list[j + 1][1]):\n",
        "        temp = input_list[j]\n",
        "        input_list[j] = input_list[j + 1]\n",
        "        input_list[j + 1] = temp\n",
        "\n",
        "  return input_list\n",
        "\n",
        "print(\"Sorted list of tuples with their 2nd item: \", sort_tup(input_list))"
      ],
      "metadata": {
        "colab": {
          "base_uri": "https://localhost:8080/"
        },
        "id": "ojnHESYxyTzm",
        "outputId": "23d2d7ce-6849-4755-e72f-0dd829ef26e6"
      },
      "execution_count": 12,
      "outputs": [
        {
          "output_type": "stream",
          "name": "stdout",
          "text": [
            "Provide character entries for the tuple separated by comma: adarsh, raj, python, mega\n",
            "Provide numbers for the tuple separated by comma. Ensure to keep the count as same as number of characters entered before: 100, 112, 23, 44\n",
            "Initial input list as per your input will be:  [('adarsh', 100), ('raj', 112), ('python', 23), ('mega', 44)]\n",
            "Sorted list of tuples with their 2nd item:  [('python', 23), ('mega', 44), ('adarsh', 100), ('raj', 112)]\n"
          ]
        }
      ]
    },
    {
      "cell_type": "code",
      "source": [
        "# Q96. Write a python program to print below pattern.\n",
        "# ```\n",
        "# * \n",
        "# * * \n",
        "# * * * \n",
        "# * * * * \n",
        "# * * * * * \n",
        "# ```\n",
        "\n",
        "\n",
        "n = int(input('How many lines of the above pattern would you like to have: '))\n",
        "\n",
        "for i in range(1, n+1):\n",
        "  print(\"* \"*i)"
      ],
      "metadata": {
        "colab": {
          "base_uri": "https://localhost:8080/"
        },
        "id": "mAcCtXsm3DGe",
        "outputId": "a302d52b-6800-497e-d96a-4eb37e0c37f9"
      },
      "execution_count": 14,
      "outputs": [
        {
          "output_type": "stream",
          "name": "stdout",
          "text": [
            "How many lines of the above pattern would you like to have: 5\n",
            "* \n",
            "* * \n",
            "* * * \n",
            "* * * * \n",
            "* * * * * \n"
          ]
        }
      ]
    },
    {
      "cell_type": "code",
      "source": [
        "# Q97. Write a python program to print below pattern.\n",
        "# ```\n",
        "#     *\n",
        "#    **\n",
        "#   ***\n",
        "#  ****\n",
        "# *****\n",
        "# ```\n",
        "\n",
        "\n",
        "n = int(input('How many lines of the above pattern would you like to have: '))\n",
        "\n",
        "for i in range(1, n+1):\n",
        "  print((n-i) * \" \" + \"*\" * i)"
      ],
      "metadata": {
        "colab": {
          "base_uri": "https://localhost:8080/"
        },
        "id": "vx5uqweF3uff",
        "outputId": "4aa2ac57-c4f9-480b-f863-501f5ff6ba1f"
      },
      "execution_count": 15,
      "outputs": [
        {
          "output_type": "stream",
          "name": "stdout",
          "text": [
            "How many lines of the above pattern would you like to have: 5\n",
            "    *\n",
            "   **\n",
            "  ***\n",
            " ****\n",
            "*****\n"
          ]
        }
      ]
    },
    {
      "cell_type": "code",
      "source": [
        "# Q98. Write a python program to print below pattern.\n",
        "# ```\n",
        "#     * \n",
        "#    * * \n",
        "#   * * * \n",
        "#  * * * * \n",
        "# * * * * * \n",
        "# ```\n",
        "\n",
        "n = int(input('How many lines of the above pattern would you like to have: '))\n",
        "\n",
        "def triangle(n):\n",
        "\tk = n - 1\n",
        "\tfor i in range(0, n):\n",
        "\t\tfor j in range(0, k):\n",
        "\t\t\tprint(end=\" \")\n",
        "\t\tk = k - 1\n",
        "\t\n",
        "\t\tfor j in range(0, i+1):\n",
        "\t\t\tprint(\"* \", end=\"\")\n",
        "\t\tprint(\"\\r\")\n",
        "\n",
        "triangle(n)"
      ],
      "metadata": {
        "colab": {
          "base_uri": "https://localhost:8080/"
        },
        "id": "Q7PZdXhI4Ndp",
        "outputId": "ce7d9c2d-bd70-4e2b-e9d5-82f3fd637dca"
      },
      "execution_count": 28,
      "outputs": [
        {
          "output_type": "stream",
          "name": "stdout",
          "text": [
            "How many lines of the above pattern would you like to have: 6\n",
            "     * \n",
            "    * * \n",
            "   * * * \n",
            "  * * * * \n",
            " * * * * * \n",
            "* * * * * * \n"
          ]
        }
      ]
    },
    {
      "cell_type": "code",
      "source": [
        "# Q99. Write a python program to print below pattern.\n",
        "# ```\n",
        "# 1 \n",
        "# 1 2 \n",
        "# 1 2 3 \n",
        "# 1 2 3 4 \n",
        "# 1 2 3 4 5\n",
        "# ```\n",
        "\n",
        "\n",
        "n = int(input('How many lines of the above pattern would you like to have: '))\n",
        "\n",
        "def triangle_num(n):\n",
        "  num = 1\n",
        "  for i in range(0, n):\n",
        "    num = 1        \n",
        "    for j in range(0, i+1):            \n",
        "      print(num, end=\" \")\n",
        "      num = num + 1\n",
        "    print(\"\\r\")\n",
        " \n",
        "triangle_num(n)"
      ],
      "metadata": {
        "colab": {
          "base_uri": "https://localhost:8080/"
        },
        "id": "XLzeOpfJ6R82",
        "outputId": "ca642398-4b57-4bfe-81db-5a5818e76ce9"
      },
      "execution_count": 29,
      "outputs": [
        {
          "output_type": "stream",
          "name": "stdout",
          "text": [
            "How many lines of the above pattern would you like to have: 7\n",
            "1 \n",
            "1 2 \n",
            "1 2 3 \n",
            "1 2 3 4 \n",
            "1 2 3 4 5 \n",
            "1 2 3 4 5 6 \n",
            "1 2 3 4 5 6 7 \n"
          ]
        }
      ]
    },
    {
      "cell_type": "code",
      "source": [
        "# Q100. Write a python program to print below pattern.\n",
        "# ```\n",
        "# A \n",
        "# B B \n",
        "# C C C \n",
        "# D D D D \n",
        "# E E E E E \n",
        "# ```\n",
        "\n",
        "n = int(input('How many lines of the above pattern would you like to have: '))\n",
        "\n",
        "def triangle_alphabetical(n):\n",
        "  num = 65 #ASCII value for char 'A'\n",
        "  for i in range(0, n):      \n",
        "    for j in range(0, i+1):\n",
        "      char = chr(num)            \n",
        "      print(char, end=\" \")\n",
        "    num = num + 1\n",
        "    print(\"\\r\")\n",
        " \n",
        "triangle_alphabetical(n)"
      ],
      "metadata": {
        "colab": {
          "base_uri": "https://localhost:8080/"
        },
        "id": "vqlvAngq7PJo",
        "outputId": "a8f7007a-cf1e-40b8-b692-5abc8972c80e"
      },
      "execution_count": 32,
      "outputs": [
        {
          "output_type": "stream",
          "name": "stdout",
          "text": [
            "How many lines of the above pattern would you like to have: 7\n",
            "A \n",
            "B B \n",
            "C C C \n",
            "D D D D \n",
            "E E E E E \n",
            "F F F F F F \n",
            "G G G G G G G \n"
          ]
        }
      ]
    }
  ],
  "metadata": {
    "colab": {
      "provenance": []
    },
    "kernelspec": {
      "display_name": "Python 3",
      "name": "python3"
    },
    "language_info": {
      "name": "python"
    }
  },
  "nbformat": 4,
  "nbformat_minor": 0
}