{
  "nbformat": 4,
  "nbformat_minor": 0,
  "metadata": {
    "colab": {
      "provenance": []
    },
    "kernelspec": {
      "name": "python3",
      "display_name": "Python 3"
    },
    "language_info": {
      "name": "python"
    }
  },
  "cells": [
    {
      "cell_type": "markdown",
      "source": [
        "## **Name - Adarsh Raj**\n",
        "## **Email - ada.raj96@gmail.com**"
      ],
      "metadata": {
        "id": "62ohk5XRNlBu"
      }
    },
    {
      "cell_type": "markdown",
      "source": [
        "Q1 to Q25 for this assignment has already been solved in the assignment - \"Assignment-1(Python)\".\n",
        " \n",
        "Link to that is attached here - https://github.com/Adarshcris7/fluffy-potato/blob/main/PythonAssignment-1%20--%20Adarsh%20Raj.md"
      ],
      "metadata": {
        "id": "JBrqVRK6Nz3s"
      }
    },
    {
      "cell_type": "markdown",
      "source": [
        "**Q26. What is a string? How can we declare string in Python?**\n",
        "\n",
        "Ans - A string is a python data container which is a collection of alphabets, words or other characters. Python strings are immutable which means they cannot be changed after they are created. String can be declared in multiple ways --\n",
        "\n",
        "1) either by creating a variable and assigning characters to it inside double or single quotes\n",
        "\n",
        "2) converting other data types (int, float etc.) to string using str() function"
      ],
      "metadata": {
        "id": "oJxNbzk-N4XE"
      }
    },
    {
      "cell_type": "markdown",
      "source": [
        "**Q27. How can we access the string using its index?**\n",
        "\n",
        "Ans -- A string can be made up of a single letter or even multiple characters. To access a string using its index, we use [] method on the declared string. Ex - If a declared variable 'var_str' is a string then we use 'var_str[i]' to access characters in the strings. The value of 'i' ranges from 0 to one less than the length of the string."
      ],
      "metadata": {
        "id": "IE1CoJRnWkMw"
      }
    },
    {
      "cell_type": "code",
      "source": [
        "var_str = 'adarsh raj'\n",
        "print(len(var_str))\n",
        "\n",
        "for i in range(len(var_str)):\n",
        "  print(var_str[i])"
      ],
      "metadata": {
        "colab": {
          "base_uri": "https://localhost:8080/"
        },
        "id": "awk-GpxeXMid",
        "outputId": "8a96e322-dbbe-46e1-975a-2043dda42222"
      },
      "execution_count": null,
      "outputs": [
        {
          "output_type": "stream",
          "name": "stdout",
          "text": [
            "10\n",
            "a\n",
            "d\n",
            "a\n",
            "r\n",
            "s\n",
            "h\n",
            " \n",
            "r\n",
            "a\n",
            "j\n"
          ]
        }
      ]
    },
    {
      "cell_type": "code",
      "source": [
        "# **Q28. Write a code to get the desired output of the following**\n",
        "# ```\n",
        "# string = \"Big Data iNeuron\"\n",
        "# desired_output = \"iNeuron\"\n",
        "# ``` \n",
        "\n",
        "string = \"Big Data iNeuron\"\n",
        "\n",
        "desired_output = string[9:]\n",
        "desired_output"
      ],
      "metadata": {
        "colab": {
          "base_uri": "https://localhost:8080/",
          "height": 35
        },
        "id": "qRmhQ-IWYCHr",
        "outputId": "34b778f5-ffe1-48b5-bb1c-1e2756e82cfb"
      },
      "execution_count": null,
      "outputs": [
        {
          "output_type": "execute_result",
          "data": {
            "text/plain": [
              "'iNeuron'"
            ],
            "application/vnd.google.colaboratory.intrinsic+json": {
              "type": "string"
            }
          },
          "metadata": {},
          "execution_count": 5
        }
      ]
    },
    {
      "cell_type": "code",
      "source": [
        "# Q29. Write a code to get the desired output of the following\n",
        "# ```\n",
        "# string = \"Big Data iNeuron\"\n",
        "# desired_output = \"norueNi\"\n",
        "# ```\n",
        "\n",
        "string = \"Big Data iNeuron\"\n",
        "\n",
        "desired_output = string[9:]\n",
        "desired_output[::-1]"
      ],
      "metadata": {
        "colab": {
          "base_uri": "https://localhost:8080/",
          "height": 35
        },
        "id": "Pij9G_97YZ9n",
        "outputId": "af55f53c-12cb-4d1c-8d33-2bb37bce86b3"
      },
      "execution_count": null,
      "outputs": [
        {
          "output_type": "execute_result",
          "data": {
            "text/plain": [
              "'norueNi'"
            ],
            "application/vnd.google.colaboratory.intrinsic+json": {
              "type": "string"
            }
          },
          "metadata": {},
          "execution_count": 7
        }
      ]
    },
    {
      "cell_type": "code",
      "source": [
        "# Q30. Resverse the string given in the above question.\n",
        "\n",
        "string = \"Big Data iNeuron\"\n",
        "str = \"\"\n",
        "\n",
        "for i in range(0, len(string), 1):\n",
        "  str = string[i] + str\n",
        "\n",
        "str"
      ],
      "metadata": {
        "colab": {
          "base_uri": "https://localhost:8080/",
          "height": 35
        },
        "id": "AH0kvd-1aSKd",
        "outputId": "37ccd7ae-839e-4471-883a-62b83bf7f610"
      },
      "execution_count": null,
      "outputs": [
        {
          "output_type": "execute_result",
          "data": {
            "text/plain": [
              "'norueNi ataD giB'"
            ],
            "application/vnd.google.colaboratory.intrinsic+json": {
              "type": "string"
            }
          },
          "metadata": {},
          "execution_count": 18
        }
      ]
    },
    {
      "cell_type": "code",
      "source": [
        "# **Q31. How can you delete entire string at once?**\n",
        "\n",
        "# Ans -- To delete an entire string, we use 'del' function of python.\n",
        "\n",
        "string = 'Adarsh Raj'\n",
        "print(\"Before deletion:\", string)\n",
        "del string\n",
        "# print(\"After deletion: \", string)\n",
        "\n",
        "#If you would uncomment the above code and run then it'll give an error as the 'string' varibale has already been deleted and so for Python it has not been defined"
      ],
      "metadata": {
        "colab": {
          "base_uri": "https://localhost:8080/"
        },
        "id": "4OcQHZBiciR5",
        "outputId": "cb08ec4e-8170-4362-a099-2c0d249e8ade"
      },
      "execution_count": null,
      "outputs": [
        {
          "output_type": "stream",
          "name": "stdout",
          "text": [
            "Before deletion: Adarsh Raj\n"
          ]
        }
      ]
    },
    {
      "cell_type": "markdown",
      "source": [
        "**Q32. What is escape sequence?**\n",
        "\n",
        "Ans -- Escape sequence in python is a sequence of characters which when used inside a string, will not represent itself in the string but will add different characteris to the string depending on the type of sequence used. For ex - If '\\n' (backslash n) is used inside a string then it'll add a new line in the string. There are many other escape sequences in python which are of different uses."
      ],
      "metadata": {
        "id": "b3z_vFTSdh8d"
      }
    },
    {
      "cell_type": "code",
      "source": [
        "# Q33. How can you print the below string?\n",
        "# ```\n",
        "# 'iNeuron's Big Data Course'\n",
        "# ```\n",
        "\n",
        "# Ans -- To print the above statement, we would've to use double quotes to enclose the entire string as the string already has one single quote in use within the string. If use single quotes to enclose the string then it'll\n",
        "# interfere with the single quote inside the string and mess up the output.\n",
        "\n",
        "string = \"iNeuron's Big Data Course\"\n",
        "string"
      ],
      "metadata": {
        "colab": {
          "base_uri": "https://localhost:8080/",
          "height": 35
        },
        "id": "cfFG6Xi3ek7m",
        "outputId": "f332d298-a2ec-4976-f7d6-a02c9ba2af54"
      },
      "execution_count": null,
      "outputs": [
        {
          "output_type": "execute_result",
          "data": {
            "text/plain": [
              "\"iNeuron's Big Data Course\""
            ],
            "application/vnd.google.colaboratory.intrinsic+json": {
              "type": "string"
            }
          },
          "metadata": {},
          "execution_count": 24
        }
      ]
    },
    {
      "cell_type": "markdown",
      "source": [
        "**Q34. What is a list in Python?**\n",
        "\n",
        "Ans -- A list in Python is one of the data types which is used to store sequence of different data types. A list is mutable, meaning the contents of the list can be modified (deleted, replaced, added). The items within the list are separated using a comma(,)."
      ],
      "metadata": {
        "id": "1772eR9JfWkf"
      }
    },
    {
      "cell_type": "markdown",
      "source": [
        "**Q35. How can you create a list in Python?**\n",
        "\n",
        "Ans -- To create a list, we can -- \n",
        "\n",
        "1) use list() function and later add items to it using append function\n",
        "\n",
        "2) initiate a list by adding items inside square bracket\n",
        "\n",
        "sample_list = [1, 2, 3, 'A', 'B', 2.5]"
      ],
      "metadata": {
        "id": "9jD7w01ugGyW"
      }
    },
    {
      "cell_type": "code",
      "source": [
        "# **Q36. How can we access the elements in a list?**\n",
        "\n",
        "# Ans -- To access elements of the list, we use the index of list. Index of a list starts from 0 (first element) to the length of list minus one. Alternatively, we can use -1 for index as\n",
        "# well to access list in reverse \n",
        "\n",
        "sample_list = [1, 2, 3, 'A', 'B', 2.5]\n",
        "\n",
        "print(sample_list[0]) #access first element\n",
        "print(sample_list[1]) #access second element\n",
        "print(sample_list[-1]) #access last element"
      ],
      "metadata": {
        "colab": {
          "base_uri": "https://localhost:8080/"
        },
        "id": "q6Ln19ghhGS_",
        "outputId": "a27961d8-5972-4a47-fce4-3ca09f56adc0"
      },
      "execution_count": null,
      "outputs": [
        {
          "output_type": "stream",
          "name": "stdout",
          "text": [
            "1\n",
            "2\n",
            "2.5\n"
          ]
        }
      ]
    },
    {
      "cell_type": "code",
      "source": [
        "# Q37. Write a code to access the word \"iNeuron\" from the given list.\n",
        "# ```\n",
        "# lst = [1,2,3,\"Hi\",[45,54, \"iNeuron\"], \"Big Data\"]\n",
        "# ``` \n",
        "\n",
        "lst = [1,2,3,\"Hi\",[45,54, \"iNeuron\"], \"Big Data\"]\n",
        "lst[4][2] # to access 3rd element inside the 5th element of the list, notice that 4th element in the main list is a list as well"
      ],
      "metadata": {
        "colab": {
          "base_uri": "https://localhost:8080/",
          "height": 35
        },
        "id": "qmaMcg0WhkxO",
        "outputId": "7bb7929d-da36-4104-89a4-f6584994005d"
      },
      "execution_count": null,
      "outputs": [
        {
          "output_type": "execute_result",
          "data": {
            "text/plain": [
              "'iNeuron'"
            ],
            "application/vnd.google.colaboratory.intrinsic+json": {
              "type": "string"
            }
          },
          "metadata": {},
          "execution_count": 30
        }
      ]
    },
    {
      "cell_type": "code",
      "source": [
        "# Q38. Take a list as an input from the user and find the length of the list.\n",
        "\n",
        "n = input(\"provide your input for the list, separated by commas: \").split(',')\n",
        "print(\"Length of the list as provided by you is\", len(n))"
      ],
      "metadata": {
        "colab": {
          "base_uri": "https://localhost:8080/"
        },
        "id": "ku4KTXPnh7A4",
        "outputId": "fa2284c0-cb52-4489-e47e-d7ec17f1699e"
      },
      "execution_count": null,
      "outputs": [
        {
          "output_type": "stream",
          "name": "stdout",
          "text": [
            "provide your input for the list, separated by commas: a,b,c,d,3,2\n",
            "Length of the list as provided by you is 6\n"
          ]
        }
      ]
    },
    {
      "cell_type": "code",
      "source": [
        "# Q39. Add the word \"Big\" in the 3rd index of the given list.\n",
        "# ```\n",
        "# lst = [\"Welcome\", \"to\", \"Data\", \"course\"]\n",
        "# ```\n",
        "\n",
        "lst = [\"Welcome\", \"to\", \"Data\", \"course\"]\n",
        "lst.insert(2, \"Big\")\n",
        "lst"
      ],
      "metadata": {
        "colab": {
          "base_uri": "https://localhost:8080/"
        },
        "id": "WWV7PdYbiUgb",
        "outputId": "d66803e9-2de8-4ae5-ff99-e8a5c51ad263"
      },
      "execution_count": null,
      "outputs": [
        {
          "output_type": "execute_result",
          "data": {
            "text/plain": [
              "['Welcome', 'to', 'Big', 'Data', 'course']"
            ]
          },
          "metadata": {},
          "execution_count": 33
        }
      ]
    },
    {
      "cell_type": "markdown",
      "source": [
        "**Q40. What is a tuple? How is it different from list?**\n",
        "\n",
        "Ans -- Tuple is another data type in python which is very simiar to list. It is also used to store a sequence different data types. The main difference between tuple and list is that, a tuple is immutable which means that once a tuple has been delcared, it's contents can't be modified."
      ],
      "metadata": {
        "id": "f_UmL_CXirhI"
      }
    },
    {
      "cell_type": "markdown",
      "source": [
        "**Q41. How can you create a tuple in Python?**\n",
        "\n",
        "Ans -- To create a tuple in python, we can either -\n",
        "\n",
        "1) initiate a variable and declare it as a tuple by using paranthesis (). Note that if we dont add any elements inside the tuple at the time of declaring then it'll create an empty tuple and as a tuple is immutable, it can't be modified later\n",
        "\n",
        "2) converting a list or set to a tuple by using tuple() function\n",
        "\n",
        "Example is shown below."
      ],
      "metadata": {
        "id": "OnIqojH_jJBm"
      }
    },
    {
      "cell_type": "code",
      "source": [
        "tup1 = (\"Python\", \"Mega\", \"1\", \"Assignment\")\n",
        "print(type(tup1))\n",
        "\n",
        "lst = [\"Welcome\", \"to\", \"Data\", \"course\"]\n",
        "tup2 = tuple(lst)\n",
        "print(tup2)\n",
        "print(tup2)"
      ],
      "metadata": {
        "colab": {
          "base_uri": "https://localhost:8080/"
        },
        "id": "Lgs6vEJRj6Km",
        "outputId": "0868dbeb-7863-4b43-cb14-2b111186faa8"
      },
      "execution_count": null,
      "outputs": [
        {
          "output_type": "stream",
          "name": "stdout",
          "text": [
            "<class 'tuple'>\n",
            "('Welcome', 'to', 'Data', 'course')\n",
            "('Welcome', 'to', 'Data', 'course')\n"
          ]
        }
      ]
    },
    {
      "cell_type": "code",
      "source": [
        "# Q42. Create a tuple and try to add your name in the tuple. Are you able to do it? Support your answer with reason.\n",
        "\n",
        "samp_tup = ('a', 'b', 'c', 'd') #empty tuple\n",
        "\n",
        "samp_tup.insert(1, 'Adarsh')\n",
        "\n",
        "#As it can be seen, using 'insert' method on a tuple gives an error because of the immmutable property of tuple, i.e., a tuple, once created, can not be modified. It can only be concatenated with another tuple."
      ],
      "metadata": {
        "colab": {
          "base_uri": "https://localhost:8080/",
          "height": 235
        },
        "id": "Zy2ZPXrvkkvU",
        "outputId": "7458dc13-9974-4816-dae0-0aca19af25c1"
      },
      "execution_count": null,
      "outputs": [
        {
          "output_type": "error",
          "ename": "AttributeError",
          "evalue": "ignored",
          "traceback": [
            "\u001b[0;31m---------------------------------------------------------------------------\u001b[0m",
            "\u001b[0;31mAttributeError\u001b[0m                            Traceback (most recent call last)",
            "\u001b[0;32m<ipython-input-9-e112d3f2d639>\u001b[0m in \u001b[0;36m<module>\u001b[0;34m\u001b[0m\n\u001b[1;32m      3\u001b[0m \u001b[0msamp_tup\u001b[0m \u001b[0;34m=\u001b[0m \u001b[0;34m(\u001b[0m\u001b[0;34m'a'\u001b[0m\u001b[0;34m,\u001b[0m \u001b[0;34m'b'\u001b[0m\u001b[0;34m,\u001b[0m \u001b[0;34m'c'\u001b[0m\u001b[0;34m,\u001b[0m \u001b[0;34m'd'\u001b[0m\u001b[0;34m)\u001b[0m \u001b[0;31m#empty tuple\u001b[0m\u001b[0;34m\u001b[0m\u001b[0;34m\u001b[0m\u001b[0m\n\u001b[1;32m      4\u001b[0m \u001b[0;34m\u001b[0m\u001b[0m\n\u001b[0;32m----> 5\u001b[0;31m \u001b[0msamp_tup\u001b[0m\u001b[0;34m.\u001b[0m\u001b[0minsert\u001b[0m\u001b[0;34m(\u001b[0m\u001b[0;36m1\u001b[0m\u001b[0;34m,\u001b[0m \u001b[0;34m'Adarsh'\u001b[0m\u001b[0;34m)\u001b[0m\u001b[0;34m\u001b[0m\u001b[0;34m\u001b[0m\u001b[0m\n\u001b[0m\u001b[1;32m      6\u001b[0m \u001b[0;34m\u001b[0m\u001b[0m\n\u001b[1;32m      7\u001b[0m \u001b[0;31m#As it can be seen, using 'append' method on a tuple gives an error because of the immmutable property of tuple, i.e., a tuple, once created, can not be modified.\u001b[0m\u001b[0;34m\u001b[0m\u001b[0;34m\u001b[0m\u001b[0;34m\u001b[0m\u001b[0m\n",
            "\u001b[0;31mAttributeError\u001b[0m: 'tuple' object has no attribute 'insert'"
          ]
        }
      ]
    },
    {
      "cell_type": "code",
      "source": [
        "# Q43. Can two tuple be appended. If yes, write a code for it. If not, why?\n",
        "\n",
        "# Ans -- Yes, two tuples can be appended or concatenated. Code is below -\n",
        "\n",
        "x = (1, 2, 3)\n",
        "y = (4, 5, 6)\n",
        "\n",
        "z = x + y\n",
        "print(z)\n",
        "print(type(z))\n",
        "\n",
        "#As seen in the output below, the output data type is a tuple."
      ],
      "metadata": {
        "colab": {
          "base_uri": "https://localhost:8080/"
        },
        "id": "RVeadxYnE3ot",
        "outputId": "f31527a1-9917-4c04-fb7b-dc2c01d814fb"
      },
      "execution_count": null,
      "outputs": [
        {
          "output_type": "stream",
          "name": "stdout",
          "text": [
            "(1, 2, 3, 4, 5, 6)\n",
            "<class 'tuple'>\n"
          ]
        }
      ]
    },
    {
      "cell_type": "code",
      "source": [
        "# Q44. Take a tuple as an input and print the count of elements in it.\n",
        "\n",
        "x = tuple(input(\"Provide entries for the tuple separated by comma: \").split(','))\n",
        "print(\"length of the provided tuple is\", len(x))"
      ],
      "metadata": {
        "colab": {
          "base_uri": "https://localhost:8080/"
        },
        "id": "kwEfo5beF_6i",
        "outputId": "93f86776-48aa-4f3f-a2ca-250fa54e1c95"
      },
      "execution_count": null,
      "outputs": [
        {
          "output_type": "stream",
          "name": "stdout",
          "text": [
            "Provide entries for the tuple separated by comma: adarsh, raj, python, mega, assignment\n",
            "length of the provided tuple is 5\n"
          ]
        }
      ]
    },
    {
      "cell_type": "markdown",
      "source": [
        "**Q45. What are sets in Python?**\n",
        "\n",
        "Ans -- Sets are another one of python data types which are used to store unordered items, which are iterable, mutable and has no dupicate elements. "
      ],
      "metadata": {
        "id": "U4zsuSmXGXT6"
      }
    },
    {
      "cell_type": "markdown",
      "source": [
        "**Q46. How can you create a set?**\n",
        "\n",
        "Ans -- To create a set in python, we can either -\n",
        "\n",
        "1) initiate a variable and declare it as a tuple by using curly brackets {} and then add elements within it\n",
        "\n",
        "2) converting a list or tuple to a set by using set() function\n",
        "\n",
        "Note that, in any of the methods above, if there are more than one instances of same element then set will only keep one instance of it because set only contains unique elements. Example is shown below."
      ],
      "metadata": {
        "id": "J-TW88jnHfMQ"
      }
    },
    {
      "cell_type": "code",
      "source": [
        "s = {'a', 'b', 2, 3, 2}\n",
        "print(s)\n",
        "print(type(s))\n",
        "\n",
        "a = (1, 2, 3)\n",
        "print(type(a))\n",
        "b = set(a)\n",
        "print(type(b))"
      ],
      "metadata": {
        "colab": {
          "base_uri": "https://localhost:8080/"
        },
        "id": "tZvYDFfWHmZ_",
        "outputId": "4dccdb59-dfbe-49a3-a16d-64dca7220c83"
      },
      "execution_count": null,
      "outputs": [
        {
          "output_type": "stream",
          "name": "stdout",
          "text": [
            "{'b', 2, 3, 'a'}\n",
            "<class 'set'>\n",
            "<class 'tuple'>\n",
            "<class 'set'>\n"
          ]
        }
      ]
    },
    {
      "cell_type": "code",
      "source": [
        "# Q47. Create a set and add \"iNeuron\" in your set.\n",
        "\n",
        "s = {1, 2, 3, 4, 5}\n",
        "\n",
        "s.add(\"iNeuron\")\n",
        "print(s)\n",
        "print(type(s))"
      ],
      "metadata": {
        "colab": {
          "base_uri": "https://localhost:8080/"
        },
        "id": "k4HLI2AQIeTR",
        "outputId": "08adc70f-407a-4d4d-d889-06066c16f382"
      },
      "execution_count": null,
      "outputs": [
        {
          "output_type": "stream",
          "name": "stdout",
          "text": [
            "{1, 2, 3, 4, 5, 'iNeuron'}\n",
            "<class 'set'>\n"
          ]
        }
      ]
    },
    {
      "cell_type": "code",
      "source": [
        "# Q48. Try to add multiple values using add() function.\n",
        "\n",
        "s = {1, 2, 3, 4, 5}\n",
        "\n",
        "s.add(\"iNeuron\", \"Adarsh\")\n",
        "print(s)\n",
        "print(type(s))\n",
        "\n",
        "# add() function takes only one argument which means only one element can be added into a set using add() function. For adding multiple elements we have to use update() function"
      ],
      "metadata": {
        "colab": {
          "base_uri": "https://localhost:8080/",
          "height": 235
        },
        "id": "u9RxCMqjI3I7",
        "outputId": "70c6a86a-b928-4ced-fc51-c2b41f3c69de"
      },
      "execution_count": null,
      "outputs": [
        {
          "output_type": "error",
          "ename": "TypeError",
          "evalue": "ignored",
          "traceback": [
            "\u001b[0;31m---------------------------------------------------------------------------\u001b[0m",
            "\u001b[0;31mTypeError\u001b[0m                                 Traceback (most recent call last)",
            "\u001b[0;32m<ipython-input-26-90fec0346544>\u001b[0m in \u001b[0;36m<module>\u001b[0;34m\u001b[0m\n\u001b[1;32m      3\u001b[0m \u001b[0ms\u001b[0m \u001b[0;34m=\u001b[0m \u001b[0;34m{\u001b[0m\u001b[0;36m1\u001b[0m\u001b[0;34m,\u001b[0m \u001b[0;36m2\u001b[0m\u001b[0;34m,\u001b[0m \u001b[0;36m3\u001b[0m\u001b[0;34m,\u001b[0m \u001b[0;36m4\u001b[0m\u001b[0;34m,\u001b[0m \u001b[0;36m5\u001b[0m\u001b[0;34m}\u001b[0m\u001b[0;34m\u001b[0m\u001b[0;34m\u001b[0m\u001b[0m\n\u001b[1;32m      4\u001b[0m \u001b[0;34m\u001b[0m\u001b[0m\n\u001b[0;32m----> 5\u001b[0;31m \u001b[0ms\u001b[0m\u001b[0;34m.\u001b[0m\u001b[0madd\u001b[0m\u001b[0;34m(\u001b[0m\u001b[0;34m\"iNeuron\"\u001b[0m\u001b[0;34m,\u001b[0m \u001b[0;34m\"Adarsh\"\u001b[0m\u001b[0;34m)\u001b[0m\u001b[0;34m\u001b[0m\u001b[0;34m\u001b[0m\u001b[0m\n\u001b[0m\u001b[1;32m      6\u001b[0m \u001b[0mprint\u001b[0m\u001b[0;34m(\u001b[0m\u001b[0ms\u001b[0m\u001b[0;34m)\u001b[0m\u001b[0;34m\u001b[0m\u001b[0;34m\u001b[0m\u001b[0m\n\u001b[1;32m      7\u001b[0m \u001b[0mprint\u001b[0m\u001b[0;34m(\u001b[0m\u001b[0mtype\u001b[0m\u001b[0;34m(\u001b[0m\u001b[0ms\u001b[0m\u001b[0;34m)\u001b[0m\u001b[0;34m)\u001b[0m\u001b[0;34m\u001b[0m\u001b[0;34m\u001b[0m\u001b[0m\n",
            "\u001b[0;31mTypeError\u001b[0m: add() takes exactly one argument (2 given)"
          ]
        }
      ]
    },
    {
      "cell_type": "code",
      "source": [
        "# Q49. How is update() different from add()?\n",
        "\n",
        "# Ans -- Update is used when we have to insert multiple entries (a sequence) or to even add a list or a tuple to a set. As you can see above, add() fails when we have to add multiple items to set. \n",
        "# Note that when we have to add a word, we have to add it in the form of either a list, or even a set\n",
        "\n",
        "s = {1, 2, 3, 4, 5}\n",
        "s.update([\"Adarsh\"], [\"Raj\"], {\"Python\"}, {\"Mega\"})\n",
        "s"
      ],
      "metadata": {
        "colab": {
          "base_uri": "https://localhost:8080/"
        },
        "id": "dDhNLCWrx2__",
        "outputId": "664640cf-d1ac-4888-8111-86ce11e936f3"
      },
      "execution_count": 9,
      "outputs": [
        {
          "output_type": "execute_result",
          "data": {
            "text/plain": [
              "{1, 2, 3, 4, 5, 'Adarsh', 'Mega', 'Python', 'Raj'}"
            ]
          },
          "metadata": {},
          "execution_count": 9
        }
      ]
    },
    {
      "cell_type": "code",
      "source": [
        "# Q50. What is clear() in sets?\n",
        "\n",
        "# Ans -- clear() method is used to remove all the elements from the set.\n",
        "\n",
        "s = {1, 2, 3, 4, 5}\n",
        "print(\"Number of elements before clearing: \", len(s))\n",
        "s.clear()\n",
        "print(\"Number of elements after clearing: \", len(s))"
      ],
      "metadata": {
        "colab": {
          "base_uri": "https://localhost:8080/"
        },
        "id": "NpNnyA4Vx3BC",
        "outputId": "7f27ea04-946d-4d80-9225-768f85cddf5b"
      },
      "execution_count": 11,
      "outputs": [
        {
          "output_type": "stream",
          "name": "stdout",
          "text": [
            "Number of elements before clearing:  5\n",
            "Number of elements after clearing:  0\n"
          ]
        }
      ]
    },
    {
      "cell_type": "code",
      "source": [
        "# Q51. What is frozen set?\n",
        "\n",
        "# Ans -- Frozen set is just an immutable version of a python set. fronzenset() method is used on a set to invoke its immutable property.\n",
        "\n",
        "s = {1, 2, 3, 4, 5}\n",
        "s.add(\"iNeuron\") #Before invoking immutable property\n",
        "print(s)\n",
        "print(type(s))\n",
        "\n",
        "x = frozenset(s) #Invoking immutable property using fronzenset()\n",
        "x.add(\"Adarsh\")\n",
        "print(x)\n",
        "\n",
        "#As it can be seen, adding an element to frozen set 'x' resulted in an error, as no elements can be added to a frozen set due to its immutable property."
      ],
      "metadata": {
        "colab": {
          "base_uri": "https://localhost:8080/",
          "height": 269
        },
        "id": "o1qotFWezuUe",
        "outputId": "a0e7fb76-105b-4646-c1c9-efc2bfd2e250"
      },
      "execution_count": 18,
      "outputs": [
        {
          "output_type": "stream",
          "name": "stdout",
          "text": [
            "{1, 2, 3, 4, 5, 'iNeuron'}\n",
            "<class 'set'>\n"
          ]
        },
        {
          "output_type": "error",
          "ename": "AttributeError",
          "evalue": "ignored",
          "traceback": [
            "\u001b[0;31m---------------------------------------------------------------------------\u001b[0m",
            "\u001b[0;31mAttributeError\u001b[0m                            Traceback (most recent call last)",
            "\u001b[0;32m<ipython-input-18-f2ce4e1ab8a2>\u001b[0m in \u001b[0;36m<module>\u001b[0;34m\u001b[0m\n\u001b[1;32m      9\u001b[0m \u001b[0;34m\u001b[0m\u001b[0m\n\u001b[1;32m     10\u001b[0m \u001b[0mx\u001b[0m \u001b[0;34m=\u001b[0m \u001b[0mfrozenset\u001b[0m\u001b[0;34m(\u001b[0m\u001b[0ms\u001b[0m\u001b[0;34m)\u001b[0m \u001b[0;31m#Invoking immutable property using fronzenset()\u001b[0m\u001b[0;34m\u001b[0m\u001b[0;34m\u001b[0m\u001b[0m\n\u001b[0;32m---> 11\u001b[0;31m \u001b[0mx\u001b[0m\u001b[0;34m.\u001b[0m\u001b[0madd\u001b[0m\u001b[0;34m(\u001b[0m\u001b[0;34m\"Adarsh\"\u001b[0m\u001b[0;34m)\u001b[0m\u001b[0;34m\u001b[0m\u001b[0;34m\u001b[0m\u001b[0m\n\u001b[0m\u001b[1;32m     12\u001b[0m \u001b[0mprint\u001b[0m\u001b[0;34m(\u001b[0m\u001b[0mx\u001b[0m\u001b[0;34m)\u001b[0m\u001b[0;34m\u001b[0m\u001b[0;34m\u001b[0m\u001b[0m\n\u001b[1;32m     13\u001b[0m \u001b[0;34m\u001b[0m\u001b[0m\n",
            "\u001b[0;31mAttributeError\u001b[0m: 'frozenset' object has no attribute 'add'"
          ]
        }
      ]
    },
    {
      "cell_type": "markdown",
      "source": [
        "**Q52. How is frozen set different from set?**\n",
        "\n",
        "Ans -- Frozen sets aren't mutable i.e., no elements can be added, removed or replaced from it. An example is shown above"
      ],
      "metadata": {
        "id": "ACCEcUZ11utE"
      }
    },
    {
      "cell_type": "code",
      "source": [
        "# Q53. What is union() in sets? Explain via code.\n",
        "\n",
        "# Ans -- Python union() method is used to to return a new set which has all the elements which is occuring at least once in all of the concerning sets. This means that all the elemts from the original set\n",
        "# will be present in the new set and there will be no repitition. Syntax for union -- \"set1.union(set2, set3, set4, set5....)\"\n",
        "\n",
        "s1 = {1, 2, 3, 4, 5}\n",
        "s2 = {2, 3, 4, 5, 6}\n",
        "\n",
        "s3 = s1.union(s2)\n",
        "s3"
      ],
      "metadata": {
        "colab": {
          "base_uri": "https://localhost:8080/"
        },
        "id": "9PDW13JY18P0",
        "outputId": "04155727-f0a6-4346-a5b9-b5c18d69c45a"
      },
      "execution_count": 19,
      "outputs": [
        {
          "output_type": "execute_result",
          "data": {
            "text/plain": [
              "{1, 2, 3, 4, 5, 6}"
            ]
          },
          "metadata": {},
          "execution_count": 19
        }
      ]
    },
    {
      "cell_type": "code",
      "source": [
        "# Q54. What is intersection() in sets? Explain via code.\n",
        "\n",
        "# Ans -- Python intersection() method is used to return a new set which has only those elements occuring in all the original sets i.e., new set will have only those elements which are occuring in all of the original sets\n",
        "# and not just once. Syntax -- \"set1.intersection(set2, set3, set4, set5....)\"\n",
        "\n",
        "s1 = {1, 2, 3, 4, 5}\n",
        "s2 = {2, 3, 4, 5, 6}\n",
        "s3 = {2, 3, 4, 'a'}\n",
        "\n",
        "s4 = s1.intersection(s2, s3)\n",
        "s4"
      ],
      "metadata": {
        "colab": {
          "base_uri": "https://localhost:8080/"
        },
        "id": "E75__i4Q3Hys",
        "outputId": "eaadb748-5a24-415f-ed92-8c7743b1aeef"
      },
      "execution_count": 24,
      "outputs": [
        {
          "output_type": "execute_result",
          "data": {
            "text/plain": [
              "{2, 3, 4}"
            ]
          },
          "metadata": {},
          "execution_count": 24
        }
      ]
    },
    {
      "cell_type": "markdown",
      "source": [
        "**Q55. What is dictionary in Python?**\n",
        "\n",
        "Ans -- Python dictionaries is another data container which store elements in key:value pair format. They are ordered, mutable and contain no duplicate items."
      ],
      "metadata": {
        "id": "3uaSYkUO34Hj"
      }
    },
    {
      "cell_type": "markdown",
      "source": [
        "**Q56. How is dictionary different from all other data structures.**\n",
        "\n",
        "Ans -- The main difference between dictionary and other data structures is that the elements stored in dictionaries are in key:value pair format, unlike other data structures. For ex --\n",
        "\n",
        "set = {1, 2, 3, 4}\n",
        "\n",
        "list = [1, 2, 3, 4]\n",
        "\n",
        "tuple = (1, 2, 3, 4)\n",
        "\n",
        "dictionary = {1: 'A', 2: 'B', 3: 'C', 4: 'D'}"
      ],
      "metadata": {
        "id": "qhyU0tF94YZS"
      }
    },
    {
      "cell_type": "markdown",
      "source": [
        "**Q57. How can we delare a dictionary in Python?**\n",
        "\n",
        "Ans -- To declare a dictionary in python, we have express elements in key:value format inside curly brackets {}."
      ],
      "metadata": {
        "id": "a-4TtYU75Erb"
      }
    },
    {
      "cell_type": "markdown",
      "source": [
        "**Q58. What will the output of the following?**\n",
        "```\n",
        "var = {}\n",
        "print(type(var))\n",
        "```\n",
        "\n",
        "Ans -- This is will output a dictionary. As there are no elements inside, it is an empty dictionary."
      ],
      "metadata": {
        "id": "mZT5eeXV5qwh"
      }
    },
    {
      "cell_type": "code",
      "source": [
        "# Q59. How can we add an element in a dictionary?\n",
        "\n",
        "# Ans -- To add elements in a dictionary, we can follow any of the methods below --\n",
        "\n",
        "dict1 = {'key1': \"Adarsh\", \"key2\": \"Raj\"}\n",
        "\n",
        "# Method 1 -- expressing key-value pair to be added in the following way -- dict_name[key] = value\n",
        "dict1.update({\"key3\": \"Python\"})\n",
        "print(\"Adding elemtns using method 1: \", dict1)\n",
        "\n",
        "# Method 2 -- Using update() method\n",
        "dict1.update({'key4': 'Mega'})\n",
        "print(\"Adding elemtns using method 2: \", dict1)\n",
        "\n",
        "#There are methods of adding key:value elements in a dictionary but the above 2 methods are the mostly used one."
      ],
      "metadata": {
        "colab": {
          "base_uri": "https://localhost:8080/"
        },
        "id": "nTs7AFOg3LiC",
        "outputId": "d823e3c8-b4ef-47d3-bb2a-447e462a94f6"
      },
      "execution_count": 34,
      "outputs": [
        {
          "output_type": "stream",
          "name": "stdout",
          "text": [
            "Adding elemtns using method 1:  {'key1': 'Adarsh', 'key2': 'Raj', 'key3': 'Python'}\n",
            "Adding elemtns using method 2:  {'key1': 'Adarsh', 'key2': 'Raj', 'key3': 'Python', 'key4': 'Mega'}\n"
          ]
        }
      ]
    },
    {
      "cell_type": "code",
      "source": [
        "# Q60. Create a dictionary and access all the values in that dictionary.\n",
        "\n",
        "# Ans -- To access all the values, we can use the method \".values()\" on the dictonary. It will product a list of all the values present in the dictionary.\n",
        "\n",
        "dict1 = {'key1': \"Adarsh\", \"key2\": \"Raj\", 'key3': \"Python\"}\n",
        "dict1.values()"
      ],
      "metadata": {
        "colab": {
          "base_uri": "https://localhost:8080/"
        },
        "id": "a2UHU0tR8ft5",
        "outputId": "bdd2a6bd-2f67-443b-cb32-5b3ced9f6beb"
      },
      "execution_count": 36,
      "outputs": [
        {
          "output_type": "execute_result",
          "data": {
            "text/plain": [
              "dict_values(['Adarsh', 'Raj', 'Python'])"
            ]
          },
          "metadata": {},
          "execution_count": 36
        }
      ]
    },
    {
      "cell_type": "code",
      "source": [
        "# Q61. Create a nested dictionary and access all the element in the inner dictionary.\n",
        "\n",
        "#nested dictionary\n",
        "nested_dict = {'A': {'First Name': 'Adarsh', 'Last Name': 'Raj'}, 'B': {'A': 'Python', 'B':'Mega', 'C':'Assignment'}}\n",
        "nested_dict\n",
        "\n",
        "#to access all the elements in the inner dictionary\n",
        "for key in nested_dict.keys():\n",
        "  print(nested_dict[key])"
      ],
      "metadata": {
        "colab": {
          "base_uri": "https://localhost:8080/"
        },
        "id": "96e2V3f1LYGW",
        "outputId": "6c955556-a30f-4705-f306-bc65de56460a"
      },
      "execution_count": 47,
      "outputs": [
        {
          "output_type": "stream",
          "name": "stdout",
          "text": [
            "{'First Name': 'Adarsh', 'Last Name': 'Raj'}\n",
            "{'A': 'Python', 'B': 'Mega', 'C': 'Assignment'}\n"
          ]
        }
      ]
    },
    {
      "cell_type": "code",
      "source": [
        "# Q62. What is the use of get() function?\n",
        "\n",
        "# Ans - get() function is used to return the value of the specified key.\n",
        "# Syntax -- dict1.get(key, value)  => key is required whereas value is an optional entry. if there is no match for the provided key in the main dictionary then the specified value is returned\n",
        "\n",
        "dict1 = {'key1': \"Adarsh\", \"key2\": \"Raj\", 'key3': \"Python\"}\n",
        "print(dict1.get('key2')) # will return the value of key2, which is \"Raj\"\n",
        "print(dict1.get('key4', 'Mega')) # will return the values as \"Mega\", because there is no match for key4 is the main dict 'dict1'"
      ],
      "metadata": {
        "colab": {
          "base_uri": "https://localhost:8080/"
        },
        "id": "g_m0yUpVNLFE",
        "outputId": "33f3c075-2910-4b1d-8dc4-388f5d3371b2"
      },
      "execution_count": 48,
      "outputs": [
        {
          "output_type": "stream",
          "name": "stdout",
          "text": [
            "Raj\n",
            "Mega\n"
          ]
        }
      ]
    },
    {
      "cell_type": "code",
      "source": [
        "# Q63. What is the use of items() function?\n",
        "\n",
        "# Ans -- items() method is used to return the elements present in the dictionary as tuples in a list. As the output is a tuple, it is immutable.\n",
        "\n",
        "dict1 = {'key1': \"Adarsh\", \"key2\": \"Raj\", 'key3': \"Python\"}\n",
        "dict2 = dict1.items()\n",
        "print(dict1)\n",
        "print(dict2)"
      ],
      "metadata": {
        "colab": {
          "base_uri": "https://localhost:8080/"
        },
        "id": "h0Ub_EZtO0_d",
        "outputId": "e8b69c7f-88fb-4b8c-98a3-108c4597a827"
      },
      "execution_count": 50,
      "outputs": [
        {
          "output_type": "stream",
          "name": "stdout",
          "text": [
            "{'key1': 'Adarsh', 'key2': 'Raj', 'key3': 'Python'}\n",
            "dict_items([('key1', 'Adarsh'), ('key2', 'Raj'), ('key3', 'Python')])\n"
          ]
        }
      ]
    },
    {
      "cell_type": "code",
      "source": [
        "# Q64. What is the use of pop() function?\n",
        "\n",
        "# Ans -- pop() method is used to remove an entry from a given data structure and then provide it as an output. The original data gets changed as the element is removed. It can be used on dictionaries, lists and \n",
        "# sets as well. It can't be used on tuples as they are immutable.\n",
        "\n",
        "# Dictionaries\n",
        "dict1 = {'key1': \"Adarsh\", \"key2\": \"Raj\", 'key3': \"Python\"}\n",
        "print(dict1.pop('key1')) # takes key as an argument for dictionaries\n",
        "\n",
        "# Lists\n",
        "list1 = ['Adarsh', 'Raj', 'Python']\n",
        "print(list1.pop(0)) # it takes positional index as an argument for list\n",
        "\n",
        "# Sets\n",
        "set1 = {1, 2, 3, 4, 'Adarsh'}\n",
        "print(set1.pop()) #takes no argument as it'll remove any element at random"
      ],
      "metadata": {
        "colab": {
          "base_uri": "https://localhost:8080/"
        },
        "id": "JSPgIFb4QESc",
        "outputId": "aa80cf03-b15c-4307-cdf4-b51ecb32b2c1"
      },
      "execution_count": 53,
      "outputs": [
        {
          "output_type": "stream",
          "name": "stdout",
          "text": [
            "Adarsh\n",
            "Adarsh\n",
            "1\n"
          ]
        }
      ]
    },
    {
      "cell_type": "code",
      "source": [
        "# Q65. What is the use of popitems() function?\n",
        "\n",
        "# Ans -- popitem() method is used to remove the last entered key:value pair from the dictionary.\n",
        "\n",
        "dict1 = {'key1': \"Adarsh\", \"key2\": \"Raj\", 'key3': \"Python\"}\n",
        "dict1.popitem() # this method does not take any arguments"
      ],
      "metadata": {
        "colab": {
          "base_uri": "https://localhost:8080/"
        },
        "id": "2f8o09X6STZa",
        "outputId": "95df90f7-f482-4b3f-cae8-8445b05faeb5"
      },
      "execution_count": 58,
      "outputs": [
        {
          "output_type": "execute_result",
          "data": {
            "text/plain": [
              "('key3', 'Python')"
            ]
          },
          "metadata": {},
          "execution_count": 58
        }
      ]
    },
    {
      "cell_type": "code",
      "source": [
        "# Q66. What is the use of keys() function?\n",
        "\n",
        "# Ans -- keys() method is used to return a list of all the keys from a dictionary. The output is a dicitonary view-object, which acts similar to a set\n",
        "\n",
        "dict1 = {'key1': \"Adarsh\", \"key2\": \"Raj\", 'key3': \"Python\"}\n",
        "dict1.keys()"
      ],
      "metadata": {
        "colab": {
          "base_uri": "https://localhost:8080/"
        },
        "id": "jrohRzsBS5wK",
        "outputId": "7b8cf133-5397-46e0-a504-c06a32adbc16"
      },
      "execution_count": 62,
      "outputs": [
        {
          "output_type": "execute_result",
          "data": {
            "text/plain": [
              "dict_keys(['key1', 'key2', 'key3'])"
            ]
          },
          "metadata": {},
          "execution_count": 62
        }
      ]
    },
    {
      "cell_type": "code",
      "source": [
        "# Q67. What is the use of values() function?\n",
        "\n",
        "# Ans -- values() method is used to return a list of all the values from a dictionary. The output is a dicitonary view-object, which acts similar to a set\n",
        "\n",
        "dict1 = {'key1': \"Adarsh\", \"key2\": \"Raj\", 'key3': \"Python\"}\n",
        "dict1.values()"
      ],
      "metadata": {
        "colab": {
          "base_uri": "https://localhost:8080/"
        },
        "id": "PjTFcE-sTuQK",
        "outputId": "3a5969be-17c9-4135-ce73-fcdce441ece9"
      },
      "execution_count": 63,
      "outputs": [
        {
          "output_type": "execute_result",
          "data": {
            "text/plain": [
              "dict_values(['Adarsh', 'Raj', 'Python'])"
            ]
          },
          "metadata": {},
          "execution_count": 63
        }
      ]
    },
    {
      "cell_type": "markdown",
      "source": [
        "**Q68. What are loops in Python?**\n",
        "\n",
        "Ans -- In python, looping is used to repeat something over and over until a particular condition is satisfied."
      ],
      "metadata": {
        "id": "ECW3GpyLUlaY"
      }
    },
    {
      "cell_type": "markdown",
      "source": [
        "**Q69. How many type of loop are there in Python?**\n",
        "\n",
        "Ans -- There are 2 types of loop in python --\n",
        "\n",
        "1) for loop\n",
        "\n",
        "2) while loop"
      ],
      "metadata": {
        "id": "xq_jgbLKUpCg"
      }
    },
    {
      "cell_type": "markdown",
      "source": [
        "**Q70. What is the difference between for and while loops?**\n",
        "\n",
        "Ans -- Both 'for' and 'while' loops are used for iterating a statement over and over until a certain condition is met. The major differnce between them is that, in 'for' loop the number of iterations is known from the start and that is used, whereas, in 'while' loop the number of iterations is not known, the execution is done until the statement in the while loop is proved wrong."
      ],
      "metadata": {
        "id": "J_mIhHcpU4H3"
      }
    },
    {
      "cell_type": "code",
      "source": [
        "# Q71. What is the use of continue statement?\n",
        "\n",
        "# Ans -- Continue is a loop control statement, it is used to skip the statements which are scheduled for execution. It forces the loop to continue or execute the next iteration. When the continue statement is \n",
        "# executed in the loop, the code inside the loop following the continue statement will be skipped and the next iteration of the loop will begin.\n",
        "\n",
        "list1 = [0, 1, 2, 3, 4, 5, 6, 7]\n",
        "\n",
        "for i in range(len(list1)):\n",
        "  if i == 4:\n",
        "    continue\n",
        "  print(list1[i])\n",
        "\n",
        "# As it can be seen, continue statement skipped the print function when i equalled 4 (no output for 5th element of the list)"
      ],
      "metadata": {
        "colab": {
          "base_uri": "https://localhost:8080/"
        },
        "id": "QwxArvVvW3SP",
        "outputId": "4baa9a76-5981-4490-d867-ffe6a6d8992b"
      },
      "execution_count": 69,
      "outputs": [
        {
          "output_type": "stream",
          "name": "stdout",
          "text": [
            "0\n",
            "1\n",
            "2\n",
            "3\n",
            "5\n",
            "6\n",
            "7\n"
          ]
        }
      ]
    },
    {
      "cell_type": "code",
      "source": [
        "# Q72. What is the use of break statement?\n",
        "\n",
        "# Ans - Similar to continue, break is another loop control statement, it is used to terminate the loop when the certain condition is met.\n",
        "\n",
        "list1 = [0, 1, 2, 3, 4, 5, 6, 7]\n",
        "\n",
        "for i in range(len(list1)):\n",
        "  if i == 4:\n",
        "    break\n",
        "  print(list1[i])\n",
        "\n",
        "# As it can be seen, break statement forced the loop to close when i == 4 (no output after 4th element of the list)"
      ],
      "metadata": {
        "colab": {
          "base_uri": "https://localhost:8080/"
        },
        "id": "63cKOGE_XskF",
        "outputId": "83b21cbd-1779-453f-a212-3968eb8ec764"
      },
      "execution_count": 70,
      "outputs": [
        {
          "output_type": "stream",
          "name": "stdout",
          "text": [
            "0\n",
            "1\n",
            "2\n",
            "3\n"
          ]
        }
      ]
    },
    {
      "cell_type": "code",
      "source": [
        "# Q73. What is the use of pass statement?\n",
        "\n",
        "# Ans -- Pass statement basically does nothing. It is used when a statement is required within the loop syntactically but you may not want to code to execute.\n",
        "\n",
        "list1 = [0, 1, 2, 3, 4, 5, 6, 7]\n",
        "\n",
        "for i in range(len(list1)):\n",
        "  if i == 4:\n",
        "    pass\n",
        "    print('pass statement was executed here')\n",
        "  print(list1[i])\n",
        "\n",
        "# As it can be seen, pass statement did nothing when the condition was met"
      ],
      "metadata": {
        "colab": {
          "base_uri": "https://localhost:8080/"
        },
        "id": "vd-kFXX5YFoH",
        "outputId": "969cff66-761b-4c8d-8d98-0d85cbd75386"
      },
      "execution_count": 72,
      "outputs": [
        {
          "output_type": "stream",
          "name": "stdout",
          "text": [
            "0\n",
            "1\n",
            "2\n",
            "3\n",
            "pass statement was executed here\n",
            "4\n",
            "5\n",
            "6\n",
            "7\n"
          ]
        }
      ]
    },
    {
      "cell_type": "code",
      "source": [
        "# Q74. What is the use of range() function?\n",
        "\n",
        "# Ans -- range() function is used to return a sequence of numbers. By default, the sequence will start with 0 and increment by 1. It needs at least one argument, which is used to specify where the sequence has to stop.\n",
        "\n",
        "# one argument - where it ends\n",
        "x = (range(4))\n",
        "for i in x:\n",
        "  print(i)\n",
        "\n",
        "print(\"--------\") # used just to indicate a segmentation\n",
        "\n",
        "# start, end are specified\n",
        "y = range(1,4)\n",
        "for i in y:\n",
        "  print(i)\n",
        "  \n",
        "print(\"--------\") # used just to indicate a segmentation\n",
        "\n",
        "# start, end and increment are specified\n",
        "z = range(1,10,2)\n",
        "for i in z:\n",
        "  print(i)"
      ],
      "metadata": {
        "colab": {
          "base_uri": "https://localhost:8080/"
        },
        "id": "cJn-lHd8Y31W",
        "outputId": "15323e6f-0b6b-4236-c395-8c60b9ad3f73"
      },
      "execution_count": 82,
      "outputs": [
        {
          "output_type": "stream",
          "name": "stdout",
          "text": [
            "0\n",
            "1\n",
            "2\n",
            "3\n",
            "--------\n",
            "1\n",
            "2\n",
            "3\n",
            "--------\n",
            "1\n",
            "3\n",
            "5\n",
            "7\n",
            "9\n"
          ]
        }
      ]
    },
    {
      "cell_type": "markdown",
      "source": [
        "**Q75. How can you loop over a dictionary?**\n",
        "\n",
        "Ans -- There are various ways to loop over a dictionary --\n",
        "\n",
        "> Access key using .keys()\n",
        "\n",
        "> Iterate through all values using .values()\n",
        "\n",
        "> Iterate through all key, and value pairs using items()\n",
        "\n",
        "> Print items in Key-Value in pair\n",
        "\n",
        "An example can be seen below."
      ],
      "metadata": {
        "id": "1RnwRGQwa0uk"
      }
    },
    {
      "cell_type": "code",
      "source": [
        "#using .keys()\n",
        "dict1 = {'key1': \"Adarsh\", \"key2\": \"Raj\", 'key3': 'Python'}\n",
        "\n",
        "for key in dict1.keys():\n",
        "  print(key,\": \", dict1[key])"
      ],
      "metadata": {
        "colab": {
          "base_uri": "https://localhost:8080/"
        },
        "id": "vGHi9vt6UUAr",
        "outputId": "58449f32-f98a-4b66-c199-70ae4c56297f"
      },
      "execution_count": 85,
      "outputs": [
        {
          "output_type": "stream",
          "name": "stdout",
          "text": [
            "key1 :  Adarsh\n",
            "key2 :  Raj\n",
            "key3 :  Python\n"
          ]
        }
      ]
    }
  ]
}