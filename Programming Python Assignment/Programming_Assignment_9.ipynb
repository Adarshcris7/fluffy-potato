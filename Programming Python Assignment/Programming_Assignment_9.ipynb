{
  "cells": [
    {
      "cell_type": "markdown",
      "id": "47b9bb99",
      "metadata": {
        "id": "47b9bb99"
      },
      "source": [
        "## Programming Assignment_9\n",
        "----------------"
      ]
    },
    {
      "cell_type": "markdown",
      "id": "c725f7a9",
      "metadata": {
        "id": "c725f7a9"
      },
      "source": [
        "### 1. Write a Python program to check if the given number is a Disarium Number?\n",
        "##### ans:"
      ]
    },
    {
      "cell_type": "code",
      "execution_count": 1,
      "id": "00495e5f",
      "metadata": {
        "id": "00495e5f",
        "colab": {
          "base_uri": "https://localhost:8080/"
        },
        "outputId": "86ad6548-a903-4966-dca3-0859cd7b466b"
      },
      "outputs": [
        {
          "output_type": "stream",
          "name": "stdout",
          "text": [
            "89  is a Disarium number.\n",
            "90  is not a Disarium number.\n"
          ]
        }
      ],
      "source": [
        "def is_disarium(n):\n",
        "    num = n\n",
        "    sum = 0\n",
        "    digits = [int(d) for d in str(num)]\n",
        "    for i, digit in enumerate(digits):\n",
        "        sum += digit ** (i + 1)\n",
        "    return sum == num\n",
        "\n",
        "x = 89\n",
        "if (is_disarium(x)):\n",
        "    print(x,\" is a Disarium number.\")\n",
        "else:\n",
        "    print(x,\" is not a Disarium number.\")\n",
        "\n",
        "y = 90\n",
        "if (is_disarium(y)):\n",
        "    print(y,\" is a Disarium number.\")\n",
        "else:\n",
        "    print(y,\" is not a Disarium number.\")"
      ]
    },
    {
      "cell_type": "markdown",
      "id": "f0064401",
      "metadata": {
        "id": "f0064401"
      },
      "source": [
        "---------------------------\n",
        "### 2. Write a Python program to print all disarium numbers between 1 to 100?\n",
        "##### ans:"
      ]
    },
    {
      "cell_type": "code",
      "execution_count": 3,
      "id": "78e6ba38",
      "metadata": {
        "id": "78e6ba38",
        "outputId": "e7ada18c-81e6-4ae2-8fd3-6f850f3f1c9e",
        "colab": {
          "base_uri": "https://localhost:8080/"
        }
      },
      "outputs": [
        {
          "output_type": "stream",
          "name": "stdout",
          "text": [
            "1 2 3 4 5 6 7 8 9 89 \n",
            "Above mentioned digits are disarium numbers\n"
          ]
        }
      ],
      "source": [
        "for i in range(1, 101):\n",
        "    if is_disarium(i) == True:\n",
        "        print(i, end = ' ')\n",
        "print(\"\\nAbove mentioned digits are disarium numbers\")"
      ]
    },
    {
      "cell_type": "markdown",
      "id": "31df1e4a",
      "metadata": {
        "id": "31df1e4a"
      },
      "source": [
        "---------------------------\n",
        "### 3. Write a Python program to check if the given number is Happy Number?\n",
        "##### ans:"
      ]
    },
    {
      "cell_type": "code",
      "execution_count": 6,
      "id": "c274693d",
      "metadata": {
        "id": "c274693d",
        "colab": {
          "base_uri": "https://localhost:8080/"
        },
        "outputId": "65a1e6d8-bcf8-4562-85f1-99f1c8dfbf68"
      },
      "outputs": [
        {
          "output_type": "stream",
          "name": "stdout",
          "text": [
            "19  is a Happy number.\n",
            "20  is not a Happy number.\n"
          ]
        }
      ],
      "source": [
        "def is_happy(n):\n",
        "    seen = set()\n",
        "    while n not in seen:\n",
        "        seen.add(n)\n",
        "        n = sum(int(i)**2 for i in str(n))\n",
        "    return n == 1\n",
        "\n",
        "x = 19\n",
        "if (is_happy(x)):\n",
        "    print(x,\" is a Happy number.\")\n",
        "else:\n",
        "    print(x,\" is not a Happy number.\")\n",
        "\n",
        "y = 20\n",
        "if (is_happy(y)):\n",
        "    print(y,\" is a Happy number.\")\n",
        "else:\n",
        "    print(y,\" is not a Happy number.\")"
      ]
    },
    {
      "cell_type": "markdown",
      "id": "51b265e3",
      "metadata": {
        "id": "51b265e3"
      },
      "source": [
        "---------------------------\n",
        "### 4. Write a Python program to print all happy numbers between 1 and 100?\n",
        "##### ans:"
      ]
    },
    {
      "cell_type": "code",
      "execution_count": 7,
      "id": "dd776994",
      "metadata": {
        "id": "dd776994",
        "outputId": "0aae63f9-f867-4382-c9d0-ac8fa52800d3",
        "colab": {
          "base_uri": "https://localhost:8080/"
        }
      },
      "outputs": [
        {
          "output_type": "stream",
          "name": "stdout",
          "text": [
            "1 7 10 13 19 23 28 31 32 44 49 68 70 79 82 86 91 94 97 100 \n",
            "Above mentioned digits are happy numbers\n"
          ]
        }
      ],
      "source": [
        "for i in range(1, 101):\n",
        "    if is_happy(i) == True:\n",
        "        print(i, end = ' ')\n",
        "print(\"\\nAbove mentioned digits are happy numbers\")"
      ]
    },
    {
      "cell_type": "markdown",
      "id": "6a190ee0",
      "metadata": {
        "id": "6a190ee0"
      },
      "source": [
        "---------------------------\n",
        "### 5. Write a Python program to determine whether the given number is a Harshad Number?\n",
        "##### ans:"
      ]
    },
    {
      "cell_type": "code",
      "execution_count": 8,
      "id": "9a8d5472",
      "metadata": {
        "id": "9a8d5472",
        "colab": {
          "base_uri": "https://localhost:8080/"
        },
        "outputId": "373216bb-66ad-4929-9bcc-fb9bb15d971b"
      },
      "outputs": [
        {
          "output_type": "stream",
          "name": "stdout",
          "text": [
            "18  is a Harshad number.\n"
          ]
        }
      ],
      "source": [
        "def is_harshad(n):\n",
        "    digits = [int(d) for d in str(n)]\n",
        "    return n % sum(digits) == 0\n",
        "\n",
        "n = 18\n",
        "if (is_harshad(n)):\n",
        "    print(n,\" is a Harshad number.\")\n",
        "else:\n",
        "    print(n,\" is not a Harshad number.\")"
      ]
    },
    {
      "cell_type": "markdown",
      "id": "7a7ea92e",
      "metadata": {
        "id": "7a7ea92e"
      },
      "source": [
        "---------------------------\n",
        "### 6. Write a Python program to print all pronic numbers between 1 and 100?\n",
        "##### ans:"
      ]
    },
    {
      "cell_type": "code",
      "execution_count": 9,
      "id": "936ca4b3",
      "metadata": {
        "id": "936ca4b3",
        "outputId": "cbb219dc-cc44-4d3e-9be2-573e25d524ca",
        "colab": {
          "base_uri": "https://localhost:8080/"
        }
      },
      "outputs": [
        {
          "output_type": "stream",
          "name": "stdout",
          "text": [
            "2 6 12 20 30 42 56 72 90 \n",
            "Above mentioned digits are pronic numbers\n"
          ]
        }
      ],
      "source": [
        "def is_pronic(n):\n",
        "    i = 1\n",
        "    while i * (i + 1) <= n:\n",
        "        if i * (i + 1) == n:\n",
        "            return True\n",
        "        i += 1\n",
        "    return False\n",
        "\n",
        "for i in range(1, 101):\n",
        "    if is_pronic(i) == True:\n",
        "        print(i, end = ' ')\n",
        "print(\"\\nAbove mentioned digits are pronic numbers\")"
      ]
    }
  ],
  "metadata": {
    "kernelspec": {
      "display_name": "Python 3 (ipykernel)",
      "language": "python",
      "name": "python3"
    },
    "language_info": {
      "codemirror_mode": {
        "name": "ipython",
        "version": 3
      },
      "file_extension": ".py",
      "mimetype": "text/x-python",
      "name": "python",
      "nbconvert_exporter": "python",
      "pygments_lexer": "ipython3",
      "version": "3.9.7"
    },
    "colab": {
      "provenance": []
    }
  },
  "nbformat": 4,
  "nbformat_minor": 5
}