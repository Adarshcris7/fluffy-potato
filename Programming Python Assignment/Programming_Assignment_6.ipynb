{
  "cells": [
    {
      "cell_type": "markdown",
      "id": "84a41a9f",
      "metadata": {
        "id": "84a41a9f"
      },
      "source": [
        "# Programming Basic Assignment 6"
      ]
    },
    {
      "cell_type": "markdown",
      "id": "a4b40558",
      "metadata": {
        "id": "a4b40558"
      },
      "source": [
        "------------\n",
        "### 1. Write a Python Program to Display Fibonacci Sequence Using Recursion?"
      ]
    },
    {
      "cell_type": "code",
      "execution_count": 2,
      "id": "e1b8420c",
      "metadata": {
        "id": "e1b8420c",
        "colab": {
          "base_uri": "https://localhost:8080/"
        },
        "outputId": "c15a236c-b5a5-4265-bd9d-e406b0e03cf1"
      },
      "outputs": [
        {
          "output_type": "stream",
          "name": "stdout",
          "text": [
            "How many terms? 7\n",
            "Fibonacci sequence:\n",
            "0 1 1 2 3 5 8 "
          ]
        }
      ],
      "source": [
        "def fibonacci(n):\n",
        "   if n <= 0:\n",
        "      return 0\n",
        "   elif n == 1:\n",
        "      return 1\n",
        "   else:\n",
        "      return fibonacci(n-1) + fibonacci(n-2)\n",
        "\n",
        "nterms = int(input(\"How many terms? \"))\n",
        "\n",
        "if nterms <= 0:\n",
        "   print(\"Please enter a positive integer\")\n",
        "else:\n",
        "   print(\"Fibonacci sequence:\")\n",
        "   for i in range(nterms):\n",
        "       print(fibonacci(i), end = ' ')\n"
      ]
    },
    {
      "cell_type": "markdown",
      "id": "d7a57f60",
      "metadata": {
        "id": "d7a57f60"
      },
      "source": [
        "-------------------\n",
        "### 2. Write a Python Program to Find Factorial of Number Using Recursion?"
      ]
    },
    {
      "cell_type": "code",
      "execution_count": 3,
      "id": "2cdea8e5",
      "metadata": {
        "id": "2cdea8e5",
        "colab": {
          "base_uri": "https://localhost:8080/"
        },
        "outputId": "c0ac7c27-9996-4cff-900d-6d79f96e45ff"
      },
      "outputs": [
        {
          "output_type": "stream",
          "name": "stdout",
          "text": [
            "Enter a number: 8\n",
            "The factorial of 8 is 40320\n"
          ]
        }
      ],
      "source": [
        "def factorial(n):\n",
        "    if n == 0:\n",
        "        return 1\n",
        "    else:\n",
        "        return n * factorial(n-1)\n",
        "\n",
        "num = int(input(\"Enter a number: \"))\n",
        "\n",
        "print(\"The factorial of\", num, \"is\", factorial(num))"
      ]
    },
    {
      "cell_type": "markdown",
      "id": "0357b86f",
      "metadata": {
        "id": "0357b86f"
      },
      "source": [
        "-------------\n",
        "### 3. Write a Python Program to calculate your Body Mass Index?"
      ]
    },
    {
      "cell_type": "code",
      "execution_count": 6,
      "id": "ae7411ea",
      "metadata": {
        "id": "ae7411ea",
        "colab": {
          "base_uri": "https://localhost:8080/"
        },
        "outputId": "78c40751-b9d0-402f-a8f3-1fd6b3a92a60"
      },
      "outputs": [
        {
          "output_type": "stream",
          "name": "stdout",
          "text": [
            "Enter your height (in cm) & weight (in kg) separated by a comma: 175, 65\n",
            "The BMI for provided height and weight is 21.22\n"
          ]
        }
      ],
      "source": [
        "def bmi(height, weight):\n",
        "    \n",
        "    return weight/(height*height)\n",
        "\n",
        "x, y = input(\"Enter your height (in cm) & weight (in kg) separated by a comma: \").split(\", \")\n",
        "\n",
        "x = int(x)/100\n",
        "y = int(y)\n",
        "\n",
        "print(\"The BMI for provided height and weight is\", round(bmi(x,y), 2))"
      ]
    },
    {
      "cell_type": "markdown",
      "id": "96d344a4",
      "metadata": {
        "id": "96d344a4"
      },
      "source": [
        "--------------\n",
        "### 4. Write a Python Program to calculate the natural logarithm of any number?"
      ]
    },
    {
      "cell_type": "code",
      "execution_count": 8,
      "id": "967b521c",
      "metadata": {
        "id": "967b521c",
        "outputId": "c709679a-4413-4b9e-a8cf-45d5204b33b9",
        "colab": {
          "base_uri": "https://localhost:8080/"
        }
      },
      "outputs": [
        {
          "output_type": "stream",
          "name": "stdout",
          "text": [
            "Enter a number: 6.25\n",
            "The natural logarithm of 6.25 is 1.833\n"
          ]
        }
      ],
      "source": [
        "import math\n",
        "\n",
        "num = float(input(\"Enter a number: \"))\n",
        "\n",
        "result = round(math.log(num), 3)\n",
        "\n",
        "print(\"The natural logarithm of\", num, \"is\", result)"
      ]
    },
    {
      "cell_type": "markdown",
      "id": "11c0d92c",
      "metadata": {
        "id": "11c0d92c"
      },
      "source": [
        "------------\n",
        "### 5. Write a Python Program for cube sum of first n natural numbers?\n"
      ]
    },
    {
      "cell_type": "code",
      "source": [
        "def cube_sum(n):\n",
        "    sum = 0\n",
        "    for i in range(1,n+1):\n",
        "        sum += i**3\n",
        "    return sum\n",
        "\n",
        "num = int(input(\"Enter the value of n: \"))\n",
        "result = cube_sum(num)\n",
        "print(\"The cube sum of first\", num, \"natural numbers is\", result)"
      ],
      "metadata": {
        "colab": {
          "base_uri": "https://localhost:8080/"
        },
        "id": "53gqqMZCYjZR",
        "outputId": "74eb64e7-66d0-4ed5-faa3-c6f6c7bf7620"
      },
      "id": "53gqqMZCYjZR",
      "execution_count": 11,
      "outputs": [
        {
          "output_type": "stream",
          "name": "stdout",
          "text": [
            "Enter the value of n: 8\n",
            "The cube sum of first 8 natural numbers is 1296\n"
          ]
        }
      ]
    }
  ],
  "metadata": {
    "kernelspec": {
      "display_name": "Python 3 (ipykernel)",
      "language": "python",
      "name": "python3"
    },
    "language_info": {
      "codemirror_mode": {
        "name": "ipython",
        "version": 3
      },
      "file_extension": ".py",
      "mimetype": "text/x-python",
      "name": "python",
      "nbconvert_exporter": "python",
      "pygments_lexer": "ipython3",
      "version": "3.9.7"
    },
    "colab": {
      "provenance": []
    }
  },
  "nbformat": 4,
  "nbformat_minor": 5
}