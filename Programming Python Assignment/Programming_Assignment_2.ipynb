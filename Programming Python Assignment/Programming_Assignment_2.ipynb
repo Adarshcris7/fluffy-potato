{
  "cells": [
    {
      "cell_type": "markdown",
      "id": "08c66ea5",
      "metadata": {
        "id": "08c66ea5"
      },
      "source": [
        "## Programming Assignment_2\n",
        "-------------"
      ]
    },
    {
      "cell_type": "markdown",
      "id": "4e50cf42",
      "metadata": {
        "id": "4e50cf42"
      },
      "source": [
        "### 1. Write a Python program to convert kilometers to miles?\n",
        "##### Sol."
      ]
    },
    {
      "cell_type": "code",
      "execution_count": 4,
      "id": "8d5eb295",
      "metadata": {
        "id": "8d5eb295",
        "outputId": "e957ee1f-882b-4fde-a7ff-92cb85679587",
        "colab": {
          "base_uri": "https://localhost:8080/"
        }
      },
      "outputs": [
        {
          "output_type": "stream",
          "name": "stdout",
          "text": [
            "Provide your kilometers entry: 5.6\n",
            "Equivalent distance of 5.6 km in miles = 3.4796873252389178\n"
          ]
        }
      ],
      "source": [
        "km = float(input(\"Provide your kilometers entry: \"))\n",
        "\n",
        "miles = km/1.60934\n",
        "\n",
        "print(\"Equivalent distance of {} km in miles = {}\".format(km, miles))"
      ]
    },
    {
      "cell_type": "markdown",
      "id": "0df4e6bf",
      "metadata": {
        "id": "0df4e6bf"
      },
      "source": [
        "### 2.Write a Python program to convert Celsius to Fahrenheit?\n",
        "##### Sol."
      ]
    },
    {
      "cell_type": "code",
      "execution_count": 5,
      "id": "b26052b8",
      "metadata": {
        "id": "b26052b8",
        "outputId": "d70bcca2-5107-434a-b004-7da5d03e1c05",
        "colab": {
          "base_uri": "https://localhost:8080/"
        }
      },
      "outputs": [
        {
          "output_type": "stream",
          "name": "stdout",
          "text": [
            "Provide your temperature entry: 35.6\n",
            "Equivalent temperature of 35.6 degC in degF = 96.08000000000001\n"
          ]
        }
      ],
      "source": [
        "c = float(input(\"Provide your temperature entry: \"))\n",
        "\n",
        "f = (9*c/5)+32\n",
        "\n",
        "print(\"Equivalent temperature of {} degC in degF = {}\".format(c, f))"
      ]
    },
    {
      "cell_type": "markdown",
      "id": "46129b8e",
      "metadata": {
        "id": "46129b8e"
      },
      "source": [
        "### 3. Write a Python program to display calendar?\n",
        "##### Sol."
      ]
    },
    {
      "cell_type": "code",
      "execution_count": 14,
      "id": "195356fe",
      "metadata": {
        "id": "195356fe",
        "outputId": "efacd7f9-6e4b-4725-ce3d-2d1030d13b89",
        "colab": {
          "base_uri": "https://localhost:8080/"
        }
      },
      "outputs": [
        {
          "output_type": "stream",
          "name": "stdout",
          "text": [
            "                                                         January 2023\n",
            "      Monday           Tuesday          Wednesday          Thursday           Friday           Saturday           Sunday\n",
            "                                                                                                                     1\n",
            "         2                 3                 4                 5                 6                 7                 8\n",
            "         9                10                11                12                13                14                15\n",
            "        16                17                18                19                20                21                22\n",
            "        23                24                25                26                27                28                29\n",
            "        30                31\n",
            "\n"
          ]
        }
      ],
      "source": [
        "import calendar\n",
        "\n",
        "year = 2023\n",
        "month = 1\n",
        "day = 17\n",
        "\n",
        "print(calendar.month(year, month, day))"
      ]
    },
    {
      "cell_type": "code",
      "execution_count": 17,
      "id": "28f5a42c",
      "metadata": {
        "id": "28f5a42c",
        "outputId": "144cf916-8792-4d92-da69-97e72daf728f",
        "colab": {
          "base_uri": "https://localhost:8080/"
        }
      },
      "outputs": [
        {
          "output_type": "stream",
          "name": "stdout",
          "text": [
            "                                  2023\n",
            "\n",
            "      January                   February                   March\n",
            "Mo Tu We Th Fr Sa Su      Mo Tu We Th Fr Sa Su      Mo Tu We Th Fr Sa Su\n",
            "                   1             1  2  3  4  5             1  2  3  4  5\n",
            " 2  3  4  5  6  7  8       6  7  8  9 10 11 12       6  7  8  9 10 11 12\n",
            " 9 10 11 12 13 14 15      13 14 15 16 17 18 19      13 14 15 16 17 18 19\n",
            "16 17 18 19 20 21 22      20 21 22 23 24 25 26      20 21 22 23 24 25 26\n",
            "23 24 25 26 27 28 29      27 28                     27 28 29 30 31\n",
            "30 31\n",
            "\n",
            "       April                      May                       June\n",
            "Mo Tu We Th Fr Sa Su      Mo Tu We Th Fr Sa Su      Mo Tu We Th Fr Sa Su\n",
            "                1  2       1  2  3  4  5  6  7                1  2  3  4\n",
            " 3  4  5  6  7  8  9       8  9 10 11 12 13 14       5  6  7  8  9 10 11\n",
            "10 11 12 13 14 15 16      15 16 17 18 19 20 21      12 13 14 15 16 17 18\n",
            "17 18 19 20 21 22 23      22 23 24 25 26 27 28      19 20 21 22 23 24 25\n",
            "24 25 26 27 28 29 30      29 30 31                  26 27 28 29 30\n",
            "\n",
            "        July                     August                  September\n",
            "Mo Tu We Th Fr Sa Su      Mo Tu We Th Fr Sa Su      Mo Tu We Th Fr Sa Su\n",
            "                1  2          1  2  3  4  5  6                   1  2  3\n",
            " 3  4  5  6  7  8  9       7  8  9 10 11 12 13       4  5  6  7  8  9 10\n",
            "10 11 12 13 14 15 16      14 15 16 17 18 19 20      11 12 13 14 15 16 17\n",
            "17 18 19 20 21 22 23      21 22 23 24 25 26 27      18 19 20 21 22 23 24\n",
            "24 25 26 27 28 29 30      28 29 30 31               25 26 27 28 29 30\n",
            "31\n",
            "\n",
            "      October                   November                  December\n",
            "Mo Tu We Th Fr Sa Su      Mo Tu We Th Fr Sa Su      Mo Tu We Th Fr Sa Su\n",
            "                   1             1  2  3  4  5                   1  2  3\n",
            " 2  3  4  5  6  7  8       6  7  8  9 10 11 12       4  5  6  7  8  9 10\n",
            " 9 10 11 12 13 14 15      13 14 15 16 17 18 19      11 12 13 14 15 16 17\n",
            "16 17 18 19 20 21 22      20 21 22 23 24 25 26      18 19 20 21 22 23 24\n",
            "23 24 25 26 27 28 29      27 28 29 30               25 26 27 28 29 30 31\n",
            "30 31\n",
            "\n"
          ]
        }
      ],
      "source": [
        "year = 2023\n",
        "\n",
        "print(calendar.calendar(year))"
      ]
    },
    {
      "cell_type": "markdown",
      "id": "db2bf0f7",
      "metadata": {
        "id": "db2bf0f7"
      },
      "source": [
        "### 4. Write a Python program to solve quadratic equation?\n",
        "##### Sol."
      ]
    },
    {
      "cell_type": "code",
      "execution_count": 18,
      "id": "66aa2e8b",
      "metadata": {
        "id": "66aa2e8b",
        "outputId": "33c37475-e8a6-44b7-ddd4-ccd0dee27d86",
        "colab": {
          "base_uri": "https://localhost:8080/"
        }
      },
      "outputs": [
        {
          "output_type": "stream",
          "name": "stdout",
          "text": [
            "ax^2 + bx^1 + c = 0\n",
            "Enter the coeff a, b and constant c, separated by a comma: 1, -9.0, 13\n",
            "\n",
            "For quad eq. 1.0x^2 + (-9.0)x^1 + 13.0\n",
            "The solutions are: 7.192582403567252 and 1.8074175964327481\n"
          ]
        }
      ],
      "source": [
        "import math\n",
        "\n",
        "print(\"ax^2 + bx^1 + c = 0\")\n",
        "a,b,c = input(\"Enter the coeff a, b and constant c, separated by a comma: \").split(',')\n",
        "\n",
        "a = float(a)\n",
        "b = float(b)\n",
        "c = float(c)\n",
        "\n",
        "d = (b**2) - (4*a*c)\n",
        "\n",
        "root1 = ((-1*b)+(math.sqrt(d))) / (2*a)\n",
        "root2 = ((-1*b)-(math.sqrt(d))) / (2*a)\n",
        "\n",
        "print('\\nFor quad eq. {}x^2 + ({})x^1 + {}'.format(a,b,c))\n",
        "print('The solutions are: {} and {}'.format(root1, root2))"
      ]
    },
    {
      "cell_type": "markdown",
      "id": "f70f74c9",
      "metadata": {
        "id": "f70f74c9"
      },
      "source": [
        "### 5. Write a Python program to swap two variables without temp variable?\n",
        "##### Sol."
      ]
    },
    {
      "cell_type": "code",
      "execution_count": 19,
      "id": "58514b20",
      "metadata": {
        "id": "58514b20",
        "outputId": "e1d68d02-a04b-46fa-e130-bc9d8e7f4e82",
        "colab": {
          "base_uri": "https://localhost:8080/"
        }
      },
      "outputs": [
        {
          "output_type": "stream",
          "name": "stdout",
          "text": [
            "Before swap:\n",
            "var1 = 6 and var2 = 4\n",
            "\n",
            "After swap:\n",
            "var1 = 4 and var2 = 6\n"
          ]
        }
      ],
      "source": [
        "var1 = 6\n",
        "var2 = 4\n",
        "\n",
        "print('Before swap:\\nvar1 = {} and var2 = {}'.format(var1, var2))\n",
        "var2 = var1 + var2\n",
        "var1 = var2 - var1\n",
        "var2 = var2 - var1\n",
        "\n",
        "print('\\nAfter swap:\\nvar1 = {} and var2 = {}'.format(var1, var2))"
      ]
    }
  ],
  "metadata": {
    "kernelspec": {
      "display_name": "Python 3 (ipykernel)",
      "language": "python",
      "name": "python3"
    },
    "language_info": {
      "codemirror_mode": {
        "name": "ipython",
        "version": 3
      },
      "file_extension": ".py",
      "mimetype": "text/x-python",
      "name": "python",
      "nbconvert_exporter": "python",
      "pygments_lexer": "ipython3",
      "version": "3.9.7"
    },
    "colab": {
      "provenance": []
    }
  },
  "nbformat": 4,
  "nbformat_minor": 5
}