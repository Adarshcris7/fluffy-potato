{
  "cells": [
    {
      "cell_type": "markdown",
      "id": "35297a20",
      "metadata": {
        "id": "35297a20"
      },
      "source": [
        "## Programming Basic Assignment 7"
      ]
    },
    {
      "cell_type": "markdown",
      "id": "27349114",
      "metadata": {
        "id": "27349114"
      },
      "source": [
        "------------------\n",
        "### 1. Write a Python Program to find sum of array?\n"
      ]
    },
    {
      "cell_type": "code",
      "execution_count": 1,
      "id": "cfaf637b",
      "metadata": {
        "id": "cfaf637b",
        "outputId": "bc6865d0-ea03-44ae-8ee2-4567cb66faf5",
        "colab": {
          "base_uri": "https://localhost:8080/"
        }
      },
      "outputs": [
        {
          "output_type": "stream",
          "name": "stdout",
          "text": [
            "Provide numbers for the array separated by comma: 23, 56, 78, 12.5, 98\n",
            "Sum of array:  267.5\n"
          ]
        }
      ],
      "source": [
        "l = list([float(x) for x in input(\"Provide numbers for the array separated by comma: \").split(',')])\n",
        "\n",
        "sum = 0\n",
        "for i in l:\n",
        "    sum = sum + i\n",
        "    \n",
        "print(\"Sum of array: \", sum)"
      ]
    },
    {
      "cell_type": "markdown",
      "id": "171a980d",
      "metadata": {
        "id": "171a980d"
      },
      "source": [
        "-----------------\n",
        "### 2. Write a Python Program to find largest element in an array?\n"
      ]
    },
    {
      "cell_type": "code",
      "execution_count": 2,
      "id": "87fe5169",
      "metadata": {
        "id": "87fe5169",
        "outputId": "171ae1b8-06e2-4b85-d4cc-97409bd9fd69",
        "colab": {
          "base_uri": "https://localhost:8080/"
        }
      },
      "outputs": [
        {
          "output_type": "stream",
          "name": "stdout",
          "text": [
            "Provide numbers for the array separated by comma: 23, 56, 78, 12.5, 98\n",
            "98.0\n"
          ]
        }
      ],
      "source": [
        "def largest_element(arr):\n",
        "    max_element = arr[0]\n",
        "    for i in range(1, len(arr)):\n",
        "        if arr[i] > max_element:\n",
        "            max_element = arr[i]\n",
        "    return max_element\n",
        "\n",
        "arr = list([float(x) for x in input(\"Provide numbers for the array separated by comma: \").split(',')])\n",
        "print(largest_element(arr))"
      ]
    },
    {
      "cell_type": "markdown",
      "id": "21613246",
      "metadata": {
        "id": "21613246"
      },
      "source": [
        "----------------\n",
        "### 3. Write a Python Program for array rotation?"
      ]
    },
    {
      "cell_type": "code",
      "execution_count": 33,
      "id": "ce2027d5",
      "metadata": {
        "scrolled": true,
        "id": "ce2027d5",
        "outputId": "8addac38-8b21-413c-892e-bb14bf574b30",
        "colab": {
          "base_uri": "https://localhost:8080/"
        }
      },
      "outputs": [
        {
          "output_type": "stream",
          "name": "stdout",
          "text": [
            "Provide numbers for the array separated by comma: 1,2,3,4,5,6\n",
            "Which way would you like the array rotation? Enter R for right, L for left: L\n",
            "Enter the number of steps for rotation: 2\n",
            "[3, 4, 5, 6, 1, 2]\n"
          ]
        }
      ],
      "source": [
        "arr = list([int(x) for x in input(\"Provide numbers for the array separated by comma: \").split(',')])\n",
        "direction = input(\"Which way would you like the array rotation? Enter R for right, L for left: \")\n",
        "d = int(input(\"Enter the number of steps for rotation: \"))\n",
        "\n",
        "def rotate_array(arr, direction, d):\n",
        "    if direction == \"L\":\n",
        "        for i in range(d):\n",
        "            rotate_left_by_one(arr)\n",
        "    elif direction == \"R\":\n",
        "        for i in range(d):\n",
        "            rotate_right_by_one(arr)\n",
        "    else:\n",
        "        print(\"Invalid direction provided.\")\n",
        "\n",
        "def rotate_left_by_one(arr):\n",
        "    temp = arr[0]\n",
        "    for i in range(len(arr)-1):\n",
        "        arr[i] = arr[i+1]\n",
        "    arr[len(arr)-1] = temp\n",
        "\n",
        "def rotate_right_by_one(arr):\n",
        "    temp = arr[len(arr)-1]\n",
        "    for i in range(len(arr)-1, 0, -1):\n",
        "        arr[i] = arr[i-1]\n",
        "    arr[0] = temp\n",
        "\n",
        "rotate_array(arr, direction, d)\n",
        "print(arr)"
      ]
    },
    {
      "cell_type": "code",
      "source": [
        "arr = list([int(x) for x in input(\"Provide numbers for the array separated by comma: \").split(',')])\n",
        "direction = input(\"Which way would you like the array rotation? Enter R for right, L for left: \")\n",
        "d = int(input(\"Enter the number of steps for rotation: \"))\n",
        "\n",
        "rotate_array(arr, direction, d)\n",
        "print(arr)"
      ],
      "metadata": {
        "colab": {
          "base_uri": "https://localhost:8080/"
        },
        "id": "IzccOXgxOKs_",
        "outputId": "23920ff5-8526-412e-e3ee-b3fb76004344"
      },
      "id": "IzccOXgxOKs_",
      "execution_count": 32,
      "outputs": [
        {
          "output_type": "stream",
          "name": "stdout",
          "text": [
            "Provide numbers for the array separated by comma: 1,2,3,4,5,6\n",
            "Which way would you like the array rotation? Enter R for right, L for left: R\n",
            "Enter the number of steps for rotation: 2\n",
            "[5, 6, 1, 2, 3, 4]\n"
          ]
        }
      ]
    },
    {
      "cell_type": "markdown",
      "id": "3e52d939",
      "metadata": {
        "id": "3e52d939"
      },
      "source": [
        "-------------\n",
        "### 4. Write a Python Program to Split the array and add the first part to the end?\n"
      ]
    },
    {
      "cell_type": "code",
      "source": [
        "def split_arr(arr, x):\n",
        "  arr_1 = []\n",
        "  arr_2 = []\n",
        "  for i in range(0,x):\n",
        "    arr_1.append(arr[i])\n",
        "  for j in range(x, len(arr)):\n",
        "    arr_2.append(arr[j])\n",
        "  \n",
        "  arr_2 = arr_2 + arr_1\n",
        "  \n",
        "  return arr_2\n",
        "\n",
        "arr = list([int(x) for x in input(\"Provide numbers for the array separated by comma: \").split(',')])\n",
        "indent = int(input(\"Which position would you like the list to split at: \"))\n",
        "\n",
        "print(split_arr(arr, indent))"
      ],
      "metadata": {
        "colab": {
          "base_uri": "https://localhost:8080/"
        },
        "id": "q8eP1ttaCct2",
        "outputId": "9dffd18f-1eb1-407e-e481-23a92ded2366"
      },
      "id": "q8eP1ttaCct2",
      "execution_count": 27,
      "outputs": [
        {
          "output_type": "stream",
          "name": "stdout",
          "text": [
            "Provide numbers for the array separated by comma: 1,2,3,4,5,6\n",
            "Which position would you like the list to split at: 2\n",
            "[3, 4, 5, 6, 1, 2]\n"
          ]
        }
      ]
    },
    {
      "cell_type": "code",
      "source": [
        "arr = list([int(x) for x in input(\"Provide numbers for the array separated by comma: \").split(',')])\n",
        "indent = int(input(\"Which position would you like the list to split at: \"))\n",
        "\n",
        "print(split_arr(arr, indent))"
      ],
      "metadata": {
        "colab": {
          "base_uri": "https://localhost:8080/"
        },
        "id": "5vX1UMmZIRse",
        "outputId": "dacf6ccd-f9ab-4550-8e5e-324f8e4a3bff"
      },
      "id": "5vX1UMmZIRse",
      "execution_count": 26,
      "outputs": [
        {
          "output_type": "stream",
          "name": "stdout",
          "text": [
            "Provide numbers for the array separated by comma: 1,2,3,4,5,6\n",
            "Which position would you like the list to split at: 5\n",
            "[6, 1, 2, 3, 4, 5]\n"
          ]
        }
      ]
    },
    {
      "cell_type": "markdown",
      "id": "aa375779",
      "metadata": {
        "id": "aa375779"
      },
      "source": [
        "--------------\n",
        "### 5. Write a Python Program to check if given array is Monotonic?"
      ]
    },
    {
      "cell_type": "code",
      "execution_count": 3,
      "id": "725c2a5a",
      "metadata": {
        "id": "725c2a5a",
        "colab": {
          "base_uri": "https://localhost:8080/"
        },
        "outputId": "f57f1d53-fb25-4e11-f91f-5f442a25a4b3"
      },
      "outputs": [
        {
          "output_type": "stream",
          "name": "stdout",
          "text": [
            "Provide numbers for the array separated by comma: 1, 2, 3, 4, 5, 6, 7, 8\n",
            "True\n"
          ]
        }
      ],
      "source": [
        "def is_monotonic(arr):\n",
        "    if len(arr) <= 2:\n",
        "        return True\n",
        "\n",
        "    direction = arr[1] - arr[0]\n",
        "    for i in range(2, len(arr)):\n",
        "        if direction == 0:\n",
        "            direction = arr[i] - arr[i-1]\n",
        "            continue\n",
        "        if (direction > 0 and arr[i] - arr[i-1] < 0) or (direction < 0 and arr[i] - arr[i-1] > 0):\n",
        "            return False\n",
        "    return True\n",
        "\n",
        "arr = list([float(x) for x in input(\"Provide numbers for the array separated by comma: \").split(',')])\n",
        "print(is_monotonic(arr))"
      ]
    },
    {
      "cell_type": "code",
      "execution_count": 4,
      "id": "fe90a579",
      "metadata": {
        "id": "fe90a579",
        "outputId": "2fa6eac9-cfbe-41d9-fb01-128796071baf",
        "colab": {
          "base_uri": "https://localhost:8080/"
        }
      },
      "outputs": [
        {
          "output_type": "stream",
          "name": "stdout",
          "text": [
            "Provide numbers for the array separated by comma: 1, 2, 3, 4, 5, 6, 7, 1\n",
            "False\n"
          ]
        }
      ],
      "source": [
        "arr = list([float(x) for x in input(\"Provide numbers for the array separated by comma: \").split(',')])\n",
        "print(is_monotonic(arr))"
      ]
    }
  ],
  "metadata": {
    "kernelspec": {
      "display_name": "Python 3 (ipykernel)",
      "language": "python",
      "name": "python3"
    },
    "language_info": {
      "codemirror_mode": {
        "name": "ipython",
        "version": 3
      },
      "file_extension": ".py",
      "mimetype": "text/x-python",
      "name": "python",
      "nbconvert_exporter": "python",
      "pygments_lexer": "ipython3",
      "version": "3.9.7"
    },
    "colab": {
      "provenance": []
    }
  },
  "nbformat": 4,
  "nbformat_minor": 5
}