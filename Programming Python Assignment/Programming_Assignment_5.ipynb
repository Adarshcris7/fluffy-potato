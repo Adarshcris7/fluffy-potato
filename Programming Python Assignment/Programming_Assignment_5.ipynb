{
  "cells": [
    {
      "cell_type": "markdown",
      "id": "4ac9602a",
      "metadata": {
        "id": "4ac9602a"
      },
      "source": [
        "## Python Basic Programming Assignment - 5\n",
        "--------------\n"
      ]
    },
    {
      "cell_type": "markdown",
      "id": "fdaeee06",
      "metadata": {
        "id": "fdaeee06"
      },
      "source": [
        "### 1. Write a Python Program to Find LCM?"
      ]
    },
    {
      "cell_type": "code",
      "execution_count": 2,
      "id": "2bbfde05",
      "metadata": {
        "id": "2bbfde05",
        "colab": {
          "base_uri": "https://localhost:8080/"
        },
        "outputId": "e9d1e325-3b4d-4a66-89e8-4a87c566ebe8"
      },
      "outputs": [
        {
          "name": "stdout",
          "output_type": "stream",
          "text": [
            "Provide both numbers for LCM calculation: 24 56\n"
          ]
        },
        {
          "output_type": "execute_result",
          "data": {
            "text/plain": [
              "168"
            ]
          },
          "metadata": {},
          "execution_count": 2
        }
      ],
      "source": [
        "x,y = input(\"Provide both numbers for LCM calculation: \").split()\n",
        "x = int(x)\n",
        "y = int(y)\n",
        "\n",
        "def lcm(x,y):\n",
        "    '''\n",
        "    Function which return the LCM of two number.\n",
        "    '''\n",
        "    high = x if x > y else y\n",
        "    \n",
        "    while True:\n",
        "        if (high % x==0) and (high % y==0):\n",
        "            break\n",
        "        else:\n",
        "            high += 1\n",
        "            \n",
        "    return high\n",
        "\n",
        "lcm(x,y)"
      ]
    },
    {
      "cell_type": "markdown",
      "id": "2f459cdf",
      "metadata": {
        "id": "2f459cdf"
      },
      "source": [
        "---------------------\n",
        "### 2. Write a Python Program to Find HCF?"
      ]
    },
    {
      "cell_type": "code",
      "execution_count": 3,
      "id": "ca13cf0c",
      "metadata": {
        "id": "ca13cf0c",
        "colab": {
          "base_uri": "https://localhost:8080/"
        },
        "outputId": "3722e312-1129-4c65-faff-a0d8bca7fbb9"
      },
      "outputs": [
        {
          "name": "stdout",
          "output_type": "stream",
          "text": [
            "Provide both numbers for LCM calculation: 24 56\n"
          ]
        },
        {
          "output_type": "execute_result",
          "data": {
            "text/plain": [
              "8"
            ]
          },
          "metadata": {},
          "execution_count": 3
        }
      ],
      "source": [
        "x,y = input(\"Provide both numbers for LCM calculation: \").split()\n",
        "x = int(x)\n",
        "y = int(y)\n",
        "\n",
        "def hcf(x, y):\n",
        "    \n",
        "    low = x if x < y else y\n",
        "    \n",
        "    for i in range(1, low+1):\n",
        "        if (x % i==0) and (y % i==0):\n",
        "            hcf = i\n",
        "            \n",
        "    return hcf\n",
        "\n",
        "hcf(x,y)"
      ]
    },
    {
      "cell_type": "code",
      "source": [
        "hcf(13, 45)"
      ],
      "metadata": {
        "colab": {
          "base_uri": "https://localhost:8080/"
        },
        "id": "u7d0JMnKT12w",
        "outputId": "42c068b5-db42-461e-ed65-2d5f2c64511b"
      },
      "id": "u7d0JMnKT12w",
      "execution_count": 4,
      "outputs": [
        {
          "output_type": "execute_result",
          "data": {
            "text/plain": [
              "1"
            ]
          },
          "metadata": {},
          "execution_count": 4
        }
      ]
    },
    {
      "cell_type": "markdown",
      "id": "d2c29370",
      "metadata": {
        "id": "d2c29370"
      },
      "source": [
        "---------------\n",
        "### 3. Write a Python Program to Convert Decimal to Binary, Octal and Hexadecimal?"
      ]
    },
    {
      "cell_type": "code",
      "execution_count": 12,
      "id": "f9fac93a",
      "metadata": {
        "id": "f9fac93a"
      },
      "outputs": [],
      "source": [
        "#function for conversion\n",
        "def conversion(num):\n",
        "    print(\"Binary:      \", bin(num).replace(\"0b\", \"\"))\n",
        "    print(\"Octal:       \", oct(num).replace(\"0o\", \"\"))\n",
        "    print(\"Hexadecimal: \", hex(num).replace(\"0x\", \"\"))"
      ]
    },
    {
      "cell_type": "code",
      "execution_count": 15,
      "id": "f3dd6f8d",
      "metadata": {
        "id": "f3dd6f8d",
        "outputId": "4e5ce038-5de8-45ce-fd49-c3e53bc55860",
        "colab": {
          "base_uri": "https://localhost:8080/"
        }
      },
      "outputs": [
        {
          "output_type": "stream",
          "name": "stdout",
          "text": [
            "Binary:       110111\n",
            "Octal:        67\n",
            "Hexadecimal:  37\n"
          ]
        }
      ],
      "source": [
        "conversion(55)"
      ]
    },
    {
      "cell_type": "code",
      "execution_count": 16,
      "id": "724c2e07",
      "metadata": {
        "id": "724c2e07",
        "outputId": "bfb03e61-f95d-4a36-928a-9490c9d1ba5e",
        "colab": {
          "base_uri": "https://localhost:8080/"
        }
      },
      "outputs": [
        {
          "output_type": "stream",
          "name": "stdout",
          "text": [
            "Binary:       101110001\n",
            "Octal:        561\n",
            "Hexadecimal:  171\n"
          ]
        }
      ],
      "source": [
        "conversion(369)"
      ]
    },
    {
      "cell_type": "markdown",
      "id": "2a16c5fd",
      "metadata": {
        "id": "2a16c5fd"
      },
      "source": [
        "---------------------\n",
        "### 4. Write a Python Program To Find ASCII value of a character?"
      ]
    },
    {
      "cell_type": "code",
      "execution_count": 8,
      "id": "c5164be3",
      "metadata": {
        "id": "c5164be3",
        "outputId": "8585c291-f493-4692-90a8-7ebd4566e942",
        "colab": {
          "base_uri": "https://localhost:8080/"
        }
      },
      "outputs": [
        {
          "output_type": "stream",
          "name": "stdout",
          "text": [
            "Enter a character: C\n",
            "ASCII value of C is 67\n"
          ]
        }
      ],
      "source": [
        "try:\n",
        "    char = input(\"Enter a character: \")\n",
        "    ASCII = ord(char)\n",
        "    print(\"ASCII value of {} is {}\".format(char, ASCII))\n",
        "except Exception as e:\n",
        "    print(e)"
      ]
    },
    {
      "cell_type": "markdown",
      "id": "226778a0",
      "metadata": {
        "id": "226778a0"
      },
      "source": [
        "----------------\n",
        "### 5. Write a Python Program to Make a Simple Calculator with 4 basic mathematical operations?"
      ]
    },
    {
      "cell_type": "code",
      "execution_count": 18,
      "id": "4d0c1a4d",
      "metadata": {
        "id": "4d0c1a4d",
        "outputId": "ee000223-97f8-4be8-b9b3-f6a8170e6451",
        "colab": {
          "base_uri": "https://localhost:8080/"
        }
      },
      "outputs": [
        {
          "name": "stdout",
          "output_type": "stream",
          "text": [
            "Enter first number: 56\n",
            "Enter second number: 87\n",
            "\n",
            "For addition:       +\n",
            "For subtraction:    -\n",
            "For multiplicaton:  *\n",
            "For division:       /\n",
            "For Exit:            X\n",
            "\n",
            "Enter the choice for mathematical operations: +\n",
            "\n",
            "Result:  143\n",
            "Enter first number: 76\n",
            "Enter second number: 7\n",
            "\n",
            "For addition:       +\n",
            "For subtraction:    -\n",
            "For multiplicaton:  *\n",
            "For division:       /\n",
            "For Exit:            X\n",
            "\n",
            "Enter the choice for mathematical operations: /\n",
            "\n",
            "Result:  10.857142857142858\n",
            "Enter first number: 90\n",
            "Enter second number: 67\n",
            "\n",
            "For addition:       +\n",
            "For subtraction:    -\n",
            "For multiplicaton:  *\n",
            "For division:       /\n",
            "For Exit:            X\n",
            "\n",
            "Enter the choice for mathematical operations: X\n"
          ]
        }
      ],
      "source": [
        "try:\n",
        "    \n",
        "    while True:\n",
        "        num1 = int(input(\"Enter first number: \"))\n",
        "        num2 = int(input(\"Enter second number: \"))\n",
        "        \n",
        "        print(\"\\nFor addition:       +\")\n",
        "        print(\"For subtraction:    -\")\n",
        "        print(\"For multiplicaton:  *\")\n",
        "        print(\"For division:       /\")\n",
        "        print(\"For Exit:            X\")\n",
        "        \n",
        "        ch = input(\"\\nEnter the choice for mathematical operations: \")\n",
        "        \n",
        "        \n",
        "        if ch == '+':\n",
        "            output = num1 + num2\n",
        "        elif ch == '-':\n",
        "            output = num1 - num2\n",
        "        elif ch == '*':\n",
        "            output = num1 * num2\n",
        "        elif ch == '/':\n",
        "            output = num1 / num2\n",
        "        \n",
        "        if ch == 'X' or ch == 'x':\n",
        "            break\n",
        "            \n",
        "        print(\"\\nResult: \", output)\n",
        "        \n",
        "        \n",
        "            \n",
        "except Exception as e:\n",
        "    print(e)"
      ]
    }
  ],
  "metadata": {
    "kernelspec": {
      "display_name": "Python 3 (ipykernel)",
      "language": "python",
      "name": "python3"
    },
    "language_info": {
      "codemirror_mode": {
        "name": "ipython",
        "version": 3
      },
      "file_extension": ".py",
      "mimetype": "text/x-python",
      "name": "python",
      "nbconvert_exporter": "python",
      "pygments_lexer": "ipython3",
      "version": "3.9.7"
    },
    "colab": {
      "provenance": []
    }
  },
  "nbformat": 4,
  "nbformat_minor": 5
}