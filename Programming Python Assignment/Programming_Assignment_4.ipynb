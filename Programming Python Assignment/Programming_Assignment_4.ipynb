{
  "cells": [
    {
      "cell_type": "markdown",
      "id": "20cb4340",
      "metadata": {
        "id": "20cb4340"
      },
      "source": [
        "## Programming Assignment_4\n",
        "----------------"
      ]
    },
    {
      "cell_type": "markdown",
      "id": "4fdb6695",
      "metadata": {
        "id": "4fdb6695"
      },
      "source": [
        "### 1. Write a Python Program to Find the Factorial of a Number?\n",
        "##### Sol."
      ]
    },
    {
      "cell_type": "code",
      "execution_count": 9,
      "id": "0e5e7ce2",
      "metadata": {
        "id": "0e5e7ce2"
      },
      "outputs": [],
      "source": [
        "def factorial(x):\n",
        "  if x < 0:\n",
        "    print(\"Sorry, factorial of negative numbers don't exist!\")\n",
        "  elif x == 0:\n",
        "    print(\"Factorial of 0 is 1\")\n",
        "  elif x == 1:\n",
        "    print(\"Factorial of 1 is 1\")\n",
        "  elif x > 0:\n",
        "    i = x\n",
        "    a = 1\n",
        "    while i > 1:\n",
        "      y = a * i\n",
        "      i -= 1\n",
        "      a = y\n",
        "    print('The factorial of number', x, 'is', y)"
      ]
    },
    {
      "cell_type": "code",
      "source": [
        "x,y,z = (input('Enter your number here separated by comma: ')).split(',')\n",
        "\n",
        "x = int(x)\n",
        "y = int(y)\n",
        "z = int(z)\n",
        "\n",
        "factorial(x)\n",
        "factorial(y)\n",
        "factorial(z)"
      ],
      "metadata": {
        "colab": {
          "base_uri": "https://localhost:8080/"
        },
        "id": "RuioAQrqeuJC",
        "outputId": "368dcb2c-a5ff-4851-b9ea-c993b33cd2ba"
      },
      "id": "RuioAQrqeuJC",
      "execution_count": 11,
      "outputs": [
        {
          "output_type": "stream",
          "name": "stdout",
          "text": [
            "Enter your number here separated by comma: 4, 1, -5\n",
            "The factorial of number 4 is 24\n",
            "Factorial of 1 is 1\n",
            "Sorry, factorial of negative numbers don't exist!\n"
          ]
        }
      ]
    },
    {
      "cell_type": "markdown",
      "id": "e6beef62",
      "metadata": {
        "id": "e6beef62"
      },
      "source": [
        "### 2. Write a Python Program to Display the multiplication Table?\n",
        "##### Sol."
      ]
    },
    {
      "cell_type": "code",
      "execution_count": 13,
      "id": "eba74c90",
      "metadata": {
        "id": "eba74c90",
        "outputId": "70b39fe5-359d-40e2-eaab-19591cb1da54",
        "colab": {
          "base_uri": "https://localhost:8080/"
        }
      },
      "outputs": [
        {
          "output_type": "stream",
          "name": "stdout",
          "text": [
            "Enter a number: 9\n",
            "9 * 1 = 9\n",
            "9 * 2 = 18\n",
            "9 * 3 = 27\n",
            "9 * 4 = 36\n",
            "9 * 5 = 45\n",
            "9 * 6 = 54\n",
            "9 * 7 = 63\n",
            "9 * 8 = 72\n",
            "9 * 9 = 81\n",
            "9 * 10 = 90\n"
          ]
        }
      ],
      "source": [
        "x = int(input(\"Enter a number: \"))\n",
        "\n",
        "for i in range(1, 11):\n",
        "    print(\"{} * {} = {}\".format(x, i, x*i))"
      ]
    },
    {
      "cell_type": "markdown",
      "id": "7de7eba5",
      "metadata": {
        "id": "7de7eba5"
      },
      "source": [
        "### 3. Write a Python Program to Print the Fibonacci sequence?\n",
        "##### Sol."
      ]
    },
    {
      "cell_type": "code",
      "execution_count": 14,
      "id": "14b8e06e",
      "metadata": {
        "id": "14b8e06e",
        "outputId": "561b94e3-5165-4fb7-eac5-76cdfbd874c0",
        "colab": {
          "base_uri": "https://localhost:8080/"
        }
      },
      "outputs": [
        {
          "output_type": "stream",
          "name": "stdout",
          "text": [
            "Enter a length: 12\n",
            "0 1 1 2 3 5 8 13 21 34 55 89 "
          ]
        }
      ],
      "source": [
        "x = int(input(\"Enter a length: \"))\n",
        "\n",
        "a = 0\n",
        "b = 1\n",
        "print(a, end = ' ')\n",
        "print(b, end = ' ')\n",
        "while(x-2 > 0):\n",
        "    nt = a + b\n",
        "    print(nt, end = ' ')\n",
        "    a = b\n",
        "    b = nt\n",
        "    \n",
        "    x -= 1"
      ]
    },
    {
      "cell_type": "markdown",
      "id": "0446442e",
      "metadata": {
        "id": "0446442e"
      },
      "source": [
        "### 4. Write a Python Program to Check Armstrong Number?\n",
        "##### Sol. "
      ]
    },
    {
      "cell_type": "code",
      "execution_count": 15,
      "id": "8275da72",
      "metadata": {
        "id": "8275da72",
        "colab": {
          "base_uri": "https://localhost:8080/"
        },
        "outputId": "ddd35e38-2889-43ad-f916-4f47dcde810f"
      },
      "outputs": [
        {
          "output_type": "stream",
          "name": "stdout",
          "text": [
            "Please provide your three digit number: 345\n",
            "This number is not an Armstrong number\n"
          ]
        }
      ],
      "source": [
        "x = input(\"Please provide your three digit number: \")\n",
        "\n",
        "x1, x2, x3 = int(x[0]), int(x[1]), int(x[2])\n",
        "\n",
        "arm_num = x1**3 + x2**3 + x3**3\n",
        "\n",
        "if arm_num == int(x):\n",
        "  print(\"The provided number is an Armstrong number\")\n",
        "else:\n",
        "  print(\"This number is not an Armstrong number\")"
      ]
    },
    {
      "cell_type": "code",
      "source": [
        "x = input(\"Please provide your three digit number: \")\n",
        "\n",
        "x1, x2, x3 = int(x[0]), int(x[1]), int(x[2])\n",
        "\n",
        "arm_num = x1**3 + x2**3 + x3**3\n",
        "\n",
        "if arm_num == int(x):\n",
        "  print(\"The provided number is an Armstrong number\")\n",
        "else:\n",
        "  print(\"This number is not an Armstrong number\")"
      ],
      "metadata": {
        "colab": {
          "base_uri": "https://localhost:8080/"
        },
        "id": "ENfrf1APhf_a",
        "outputId": "5a04b9c1-3480-4340-8f33-1a36e96834a0"
      },
      "id": "ENfrf1APhf_a",
      "execution_count": 16,
      "outputs": [
        {
          "output_type": "stream",
          "name": "stdout",
          "text": [
            "Please provide your three digit number: 153\n",
            "The provided number is an Armstrong number\n"
          ]
        }
      ]
    },
    {
      "cell_type": "markdown",
      "id": "a6f9adfe",
      "metadata": {
        "id": "a6f9adfe"
      },
      "source": [
        "### 5. Write a Python Program to Find Armstrong Number in an Interval?\n",
        "##### Sol."
      ]
    },
    {
      "cell_type": "code",
      "execution_count": 19,
      "id": "0c4aa2f5",
      "metadata": {
        "id": "0c4aa2f5",
        "outputId": "045697a5-657f-4e75-82fd-4c9e9e88d1ae",
        "colab": {
          "base_uri": "https://localhost:8080/"
        }
      },
      "outputs": [
        {
          "output_type": "stream",
          "name": "stdout",
          "text": [
            "Provide lower and upper values for the interval separated by a comma: 1, 10000\n",
            "1\n",
            "2\n",
            "3\n",
            "4\n",
            "5\n",
            "6\n",
            "7\n",
            "8\n",
            "9\n",
            "153\n",
            "370\n",
            "371\n",
            "407\n",
            "1634\n",
            "8208\n",
            "9474\n"
          ]
        }
      ],
      "source": [
        "x,y = input(\"Provide lower and upper values for the interval separated by a comma: \").split(',')\n",
        "x= int(x)\n",
        "y=int(y)\n",
        "\n",
        "for i in range(x, y + 1):\n",
        "   order = len(str(i))\n",
        "   sum = 0\n",
        "   temp = i\n",
        "   while temp > 0:\n",
        "       digit = temp % 10\n",
        "       sum += digit ** order\n",
        "       temp //= 10\n",
        "   if i == sum:\n",
        "       print(i)"
      ]
    },
    {
      "cell_type": "markdown",
      "id": "157cad60",
      "metadata": {
        "id": "157cad60"
      },
      "source": [
        "### 6. Write a Python Program to Find the Sum of Natural Numbers?\n",
        "##### Sol."
      ]
    },
    {
      "cell_type": "code",
      "execution_count": 22,
      "id": "aa7cf139",
      "metadata": {
        "id": "aa7cf139",
        "outputId": "c2aa3651-15d0-47e0-ae8b-20892d2b013b",
        "colab": {
          "base_uri": "https://localhost:8080/"
        }
      },
      "outputs": [
        {
          "output_type": "stream",
          "name": "stdout",
          "text": [
            "Enter a positive number: 99\n",
            "Sum of 99 natural number is 4950.0\n"
          ]
        }
      ],
      "source": [
        "x = int(input(\"Enter a positive number: \"))\n",
        "\n",
        "sum = ((x)/2)*(1+x)\n",
        "print(\"Sum of {} natural number is {}\".format(x, sum))"
      ]
    }
  ],
  "metadata": {
    "kernelspec": {
      "display_name": "Python 3 (ipykernel)",
      "language": "python",
      "name": "python3"
    },
    "language_info": {
      "codemirror_mode": {
        "name": "ipython",
        "version": 3
      },
      "file_extension": ".py",
      "mimetype": "text/x-python",
      "name": "python",
      "nbconvert_exporter": "python",
      "pygments_lexer": "ipython3",
      "version": "3.9.7"
    },
    "colab": {
      "provenance": []
    }
  },
  "nbformat": 4,
  "nbformat_minor": 5
}