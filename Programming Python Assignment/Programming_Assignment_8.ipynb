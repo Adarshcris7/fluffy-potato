{
  "cells": [
    {
      "cell_type": "markdown",
      "id": "9b304197",
      "metadata": {
        "id": "9b304197"
      },
      "source": [
        "# Python Basic Programming Assignment 8"
      ]
    },
    {
      "cell_type": "markdown",
      "id": "22789ae6",
      "metadata": {
        "id": "22789ae6"
      },
      "source": [
        "-------------\n",
        "### 1. Write a Python Program to Add Two Matrices?\n"
      ]
    },
    {
      "cell_type": "code",
      "source": [
        "def add_matrices(A, B):\n",
        "    rows = len(A)\n",
        "    cols = len(A[0])\n",
        "    C = [[0 for j in range(cols)] for i in range(rows)]\n",
        "    for i in range(rows):\n",
        "        for j in range(cols):\n",
        "            C[i][j] = A[i][j] + B[i][j]\n",
        "    return C\n",
        "\n",
        "A = [[1, 2, 3], [4, 5, 6], [7, 8, 9]]\n",
        "B = [[9, 8, 7], [6, 5, 4], [3, 2, 1]]\n",
        "\n",
        "C = add_matrices(A, B)\n",
        "\n",
        "for row in C:\n",
        "    print(row)"
      ],
      "metadata": {
        "colab": {
          "base_uri": "https://localhost:8080/"
        },
        "id": "GIDsOto1POqg",
        "outputId": "0a474e98-6ce7-4b31-a0ed-443be4c56cfb"
      },
      "id": "GIDsOto1POqg",
      "execution_count": 2,
      "outputs": [
        {
          "output_type": "stream",
          "name": "stdout",
          "text": [
            "[10, 10, 10]\n",
            "[10, 10, 10]\n",
            "[10, 10, 10]\n"
          ]
        }
      ]
    },
    {
      "cell_type": "markdown",
      "id": "044ceda6",
      "metadata": {
        "id": "044ceda6"
      },
      "source": [
        "-------------\n",
        "### 2. Write a Python Program to Multiply Two Matrices?"
      ]
    },
    {
      "cell_type": "code",
      "execution_count": 4,
      "id": "334d6268",
      "metadata": {
        "id": "334d6268",
        "outputId": "501d78bb-75f3-48b4-f213-f1e69a16658e",
        "colab": {
          "base_uri": "https://localhost:8080/"
        }
      },
      "outputs": [
        {
          "output_type": "stream",
          "name": "stdout",
          "text": [
            "[30, 24, 18]\n",
            "[84, 69, 54]\n",
            "[138, 114, 90]\n"
          ]
        }
      ],
      "source": [
        "def multiply_matrices(A, B):\n",
        "    rows_A = len(A)\n",
        "    cols_A = len(A[0])\n",
        "    rows_B = len(B)\n",
        "    cols_B = len(B[0])\n",
        "    \n",
        "    if cols_A != rows_B:\n",
        "        print(\"Error: Number of columns in A should be equal to number of rows in B.\")\n",
        "        return None\n",
        "\n",
        "    C = [[0 for j in range(cols_B)] for i in range(rows_A)]\n",
        "    for i in range(rows_A):\n",
        "        for j in range(cols_B):\n",
        "            for k in range(cols_A):\n",
        "                C[i][j] += A[i][k] * B[k][j]\n",
        "    return C\n",
        "\n",
        "A = [[1, 2, 3], [4, 5, 6], [7, 8, 9]]\n",
        "B = [[9, 8, 7], [6, 5, 4], [3, 2, 1]]\n",
        "\n",
        "C = multiply_matrices(A, B)\n",
        "\n",
        "for row in C:\n",
        "    print(row)"
      ]
    },
    {
      "cell_type": "markdown",
      "id": "5f688e46",
      "metadata": {
        "id": "5f688e46"
      },
      "source": [
        "-------------\n",
        "### 3. Write a Python Program to Transpose a Matrix?"
      ]
    },
    {
      "cell_type": "code",
      "execution_count": 5,
      "id": "a6af3f54",
      "metadata": {
        "id": "a6af3f54",
        "outputId": "cec035e4-e485-4556-bf85-0f8e213580ed",
        "colab": {
          "base_uri": "https://localhost:8080/"
        }
      },
      "outputs": [
        {
          "output_type": "stream",
          "name": "stdout",
          "text": [
            "[1, 4, 7]\n",
            "[2, 5, 8]\n",
            "[3, 6, 9]\n"
          ]
        }
      ],
      "source": [
        "def transpose_matrix(A):\n",
        "    rows = len(A)\n",
        "    cols = len(A[0])\n",
        "    T = [[0 for j in range(rows)] for i in range(cols)]\n",
        "    for i in range(rows):\n",
        "        for j in range(cols):\n",
        "            T[j][i] = A[i][j]\n",
        "    return T\n",
        "\n",
        "A = [[1, 2, 3], [4, 5, 6], [7, 8, 9]]\n",
        "\n",
        "T = transpose_matrix(A)\n",
        "\n",
        "for row in T:\n",
        "    print(row)"
      ]
    },
    {
      "cell_type": "markdown",
      "id": "b2849025",
      "metadata": {
        "id": "b2849025"
      },
      "source": [
        "------------------\n",
        "### 4. Write a Python Program to Sort Words in Alphabetic Order?\n"
      ]
    },
    {
      "cell_type": "code",
      "source": [
        "# function to sort without lowercasing all the words\n",
        "\n",
        "def sort_words(sentence):\n",
        "    words = sentence.split()\n",
        "    words.sort()\n",
        "    return ' '.join(words)\n",
        "\n",
        "def sort_words_lower(sentence):\n",
        "    words = [word.lower() for word in sentence.split()]\n",
        "    words.sort()\n",
        "    return ' '.join(words)\n",
        "\n",
        "sentence = \"I am learning how to sort words in alphabetic order\"\n",
        "\n",
        "\n",
        "print(sort_words(sentence))\n",
        "print(sort_words_lower(sentence))"
      ],
      "metadata": {
        "colab": {
          "base_uri": "https://localhost:8080/"
        },
        "id": "4pRiV-WuIdId",
        "outputId": "0877475d-7e5d-4001-8fa3-3b694a2ca171"
      },
      "id": "4pRiV-WuIdId",
      "execution_count": 8,
      "outputs": [
        {
          "output_type": "stream",
          "name": "stdout",
          "text": [
            "I alphabetic am how in learning order sort to words\n",
            "alphabetic am how i in learning order sort to words\n"
          ]
        }
      ]
    },
    {
      "cell_type": "markdown",
      "id": "48ac7b24",
      "metadata": {
        "id": "48ac7b24"
      },
      "source": [
        "-----------------\n",
        "### 5. Write a Python Program to Remove Punctuation From a String?"
      ]
    },
    {
      "cell_type": "code",
      "execution_count": 9,
      "id": "6c7b2c63",
      "metadata": {
        "id": "6c7b2c63",
        "outputId": "7ba8c60c-abba-4447-ff28-625cf4de2141",
        "colab": {
          "base_uri": "https://localhost:8080/"
        }
      },
      "outputs": [
        {
          "output_type": "stream",
          "name": "stdout",
          "text": [
            "Hello he said and went\n"
          ]
        }
      ],
      "source": [
        "import string\n",
        "\n",
        "def remove_punctuation(input_string):\n",
        "    # Make a translator object to remove punctuation\n",
        "    translator = str.maketrans('', '', string.punctuation)\n",
        "\n",
        "    # Use this translator\n",
        "    no_punct = input_string.translate(translator)\n",
        "    return no_punct\n",
        "\n",
        "input_string = \"Hello!!!, he said ---and went.\"\n",
        "print(remove_punctuation(input_string))"
      ]
    }
  ],
  "metadata": {
    "kernelspec": {
      "display_name": "Python 3 (ipykernel)",
      "language": "python",
      "name": "python3"
    },
    "language_info": {
      "codemirror_mode": {
        "name": "ipython",
        "version": 3
      },
      "file_extension": ".py",
      "mimetype": "text/x-python",
      "name": "python",
      "nbconvert_exporter": "python",
      "pygments_lexer": "ipython3",
      "version": "3.9.7"
    },
    "colab": {
      "provenance": []
    }
  },
  "nbformat": 4,
  "nbformat_minor": 5
}