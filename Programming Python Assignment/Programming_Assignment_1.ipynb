{
  "cells": [
    {
      "cell_type": "markdown",
      "id": "637b47a5",
      "metadata": {
        "id": "637b47a5"
      },
      "source": [
        "## Programming Assignment_1\n",
        "-------------"
      ]
    },
    {
      "cell_type": "markdown",
      "id": "0c647dbe",
      "metadata": {
        "id": "0c647dbe"
      },
      "source": [
        "### 1. Write a Python program to print \"Hello Python\"?\n",
        "##### Sol:"
      ]
    },
    {
      "cell_type": "code",
      "execution_count": 1,
      "id": "732cbadd",
      "metadata": {
        "id": "732cbadd",
        "outputId": "99d860b5-3e36-4830-b51d-0dfef13d769a",
        "colab": {
          "base_uri": "https://localhost:8080/"
        }
      },
      "outputs": [
        {
          "output_type": "stream",
          "name": "stdout",
          "text": [
            "Hello Python\n"
          ]
        }
      ],
      "source": [
        "print(\"Hello Python\")"
      ]
    },
    {
      "cell_type": "markdown",
      "id": "fc18a6cd",
      "metadata": {
        "id": "fc18a6cd"
      },
      "source": [
        "### 2. Write a Python program to do arithmetical operations addition and division.?\n",
        "##### Sol:"
      ]
    },
    {
      "cell_type": "code",
      "execution_count": 12,
      "id": "d5e81491",
      "metadata": {
        "id": "d5e81491",
        "outputId": "52e39625-b236-4e10-fd02-aeacbcc1d37c",
        "colab": {
          "base_uri": "https://localhost:8080/"
        }
      },
      "outputs": [
        {
          "output_type": "stream",
          "name": "stdout",
          "text": [
            "Provide any two numbers separated by a comma: 29, 7\n",
            "Addition result: 36\n",
            "Division result: 4.142857142857143\n"
          ]
        }
      ],
      "source": [
        "x,y = input(\"Provide any two numbers separated by a comma: \").split(',')\n",
        "\n",
        "# converting to integer\n",
        "x = int(x) \n",
        "y = int(y)\n",
        "\n",
        "# Addition\n",
        "sum = x + y\n",
        "\n",
        "# Division\n",
        "div = x/y\n",
        "\n",
        "print(\"Addition result:\", sum)\n",
        "print(\"Division result:\",div)"
      ]
    },
    {
      "cell_type": "markdown",
      "id": "af6e2429",
      "metadata": {
        "id": "af6e2429"
      },
      "source": [
        "### 3. Write a Python program to find the area of a triangle?\n",
        "##### Sol:"
      ]
    },
    {
      "cell_type": "code",
      "execution_count": 13,
      "id": "d5d93846",
      "metadata": {
        "id": "d5d93846",
        "outputId": "59a51a9a-5946-4e79-edf8-430f24e897f5",
        "colab": {
          "base_uri": "https://localhost:8080/"
        }
      },
      "outputs": [
        {
          "output_type": "stream",
          "name": "stdout",
          "text": [
            "Provide measurement for the 3 sides of triangle, separated by a comma: 5, 6, 7\n",
            "Area of triangle: 14.696938456699069\n"
          ]
        }
      ],
      "source": [
        "x,y,z = input(\"Provide measurement for the 3 sides of triangle, separated by a comma: \").split(',')\n",
        "\n",
        "# converting to integer\n",
        "x = int(x)\n",
        "y = int(y)\n",
        "z = int(z)\n",
        "\n",
        "# calculating semi-perimeter of triangle\n",
        "s = (x+y+z)/2\n",
        "\n",
        "# area of triangle using heron's formula\n",
        "area = (s*(s-x)*(s-y)*(s-z))**0.5\n",
        "\n",
        "print(\"Area of triangle:\", area)"
      ]
    },
    {
      "cell_type": "markdown",
      "id": "b8140061",
      "metadata": {
        "id": "b8140061"
      },
      "source": [
        "### 4. Write a Python program to swap two variables?\n",
        "##### Sol:"
      ]
    },
    {
      "cell_type": "code",
      "execution_count": 18,
      "id": "182608ba",
      "metadata": {
        "id": "182608ba",
        "outputId": "da9b7452-230d-4c2e-c2d7-39662a83a73f",
        "colab": {
          "base_uri": "https://localhost:8080/"
        }
      },
      "outputs": [
        {
          "output_type": "stream",
          "name": "stdout",
          "text": [
            "Provide two variables separated by a comma: Adarsh,09\n",
            "Before swap: \n",
            "Variable_1 = Adarsh \n",
            "Variable_2 = 09\n",
            "After swap: \n",
            "Variable_1 = 09 \n",
            "Variable_2 = Adarsh\n"
          ]
        }
      ],
      "source": [
        "x,y = input(\"Provide two variables separated by a comma: \").split(',')\n",
        "\n",
        "print(\"Before swap:\", \"\\nVariable_1 =\", x, \"\\nVariable_2 =\", y)\n",
        "\n",
        "#temporary variable to store one variable\n",
        "temp_var = x\n",
        "x = y\n",
        "y = temp_var\n",
        "\n",
        "print(\"After swap:\", \"\\nVariable_1 =\", x, \"\\nVariable_2 =\", y)"
      ]
    },
    {
      "cell_type": "markdown",
      "id": "3f8054c1",
      "metadata": {
        "id": "3f8054c1"
      },
      "source": [
        "### 5. Write a Python program to generate a random number?\n",
        "##### Sol:"
      ]
    },
    {
      "cell_type": "code",
      "execution_count": 30,
      "id": "f1e76df9",
      "metadata": {
        "id": "f1e76df9",
        "outputId": "52d2bebe-ae6d-45ca-fee8-c9cff6714e27",
        "colab": {
          "base_uri": "https://localhost:8080/"
        }
      },
      "outputs": [
        {
          "output_type": "stream",
          "name": "stdout",
          "text": [
            "93\n"
          ]
        }
      ],
      "source": [
        "#using random module to generate random number\n",
        "import random\n",
        "\n",
        "#random integer\n",
        "print(random.randint(-99, 99))"
      ]
    }
  ],
  "metadata": {
    "kernelspec": {
      "display_name": "Python 3 (ipykernel)",
      "language": "python",
      "name": "python3"
    },
    "language_info": {
      "codemirror_mode": {
        "name": "ipython",
        "version": 3
      },
      "file_extension": ".py",
      "mimetype": "text/x-python",
      "name": "python",
      "nbconvert_exporter": "python",
      "pygments_lexer": "ipython3",
      "version": "3.9.7"
    },
    "colab": {
      "provenance": []
    }
  },
  "nbformat": 4,
  "nbformat_minor": 5
}