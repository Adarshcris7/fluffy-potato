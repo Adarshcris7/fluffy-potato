{
  "cells": [
    {
      "cell_type": "markdown",
      "id": "3dcb940f",
      "metadata": {
        "id": "3dcb940f"
      },
      "source": [
        "## Python Basic Programming Assignment 10"
      ]
    },
    {
      "cell_type": "markdown",
      "id": "6720790a",
      "metadata": {
        "id": "6720790a"
      },
      "source": [
        "### 1. Write a Python program to find sum of elements in list?"
      ]
    },
    {
      "cell_type": "code",
      "execution_count": 1,
      "id": "533f67cc",
      "metadata": {
        "id": "533f67cc",
        "outputId": "c90c01ae-23ac-4e22-8aba-698cb418e9a3",
        "colab": {
          "base_uri": "https://localhost:8080/"
        }
      },
      "outputs": [
        {
          "output_type": "stream",
          "name": "stdout",
          "text": [
            "Sum of elements in the list: 15\n"
          ]
        }
      ],
      "source": [
        "def sum_list(lst):\n",
        "    total = 0\n",
        "    for num in lst:\n",
        "        total += num\n",
        "    return total\n",
        "\n",
        "lst = [1, 2, 3, 4, 5]\n",
        "print(\"Sum of elements in the list:\", sum_list(lst))"
      ]
    },
    {
      "cell_type": "markdown",
      "id": "fe1137c3",
      "metadata": {
        "id": "fe1137c3"
      },
      "source": [
        "### 2. Write a Python program to  Multiply all numbers in the list?"
      ]
    },
    {
      "cell_type": "code",
      "execution_count": 2,
      "id": "fe22cfb0",
      "metadata": {
        "id": "fe22cfb0",
        "outputId": "a8c42c9a-734b-4b1d-b319-5bf0a9e6e0df",
        "colab": {
          "base_uri": "https://localhost:8080/"
        }
      },
      "outputs": [
        {
          "output_type": "stream",
          "name": "stdout",
          "text": [
            "120\n"
          ]
        }
      ],
      "source": [
        "def multiply_list(lst):\n",
        "    result = 1\n",
        "    for i in lst:\n",
        "        result *= i\n",
        "    return result\n",
        "\n",
        "my_list = [1, 2, 3, 4, 5]\n",
        "print(multiply_list(my_list))"
      ]
    },
    {
      "cell_type": "markdown",
      "id": "078681db",
      "metadata": {
        "id": "078681db"
      },
      "source": [
        "### 3. Write a Python program to find smallest number in a list?"
      ]
    },
    {
      "cell_type": "code",
      "execution_count": 3,
      "id": "2ca471f8",
      "metadata": {
        "id": "2ca471f8",
        "outputId": "1d87e11c-4325-43e7-80ba-63d50c59967e",
        "colab": {
          "base_uri": "https://localhost:8080/"
        }
      },
      "outputs": [
        {
          "output_type": "stream",
          "name": "stdout",
          "text": [
            "Smallest element in the list is: 1\n"
          ]
        }
      ],
      "source": [
        "def find_smallest(lst):\n",
        "    smallest = lst[0]\n",
        "    for i in range(1, len(lst)):\n",
        "        if lst[i] < smallest:\n",
        "            smallest = lst[i]\n",
        "    return smallest\n",
        "\n",
        "lst = [4, 2, 9, 7, 5, 1]\n",
        "print(\"Smallest element in the list is:\", find_smallest(lst))"
      ]
    },
    {
      "cell_type": "markdown",
      "id": "12b04397",
      "metadata": {
        "id": "12b04397"
      },
      "source": [
        "### 4. Write a Python program to find largest number in a list?"
      ]
    },
    {
      "cell_type": "code",
      "execution_count": 6,
      "id": "76437f44",
      "metadata": {
        "id": "76437f44",
        "outputId": "2908abb5-d4f5-4ad5-d57a-d34667cef72a",
        "colab": {
          "base_uri": "https://localhost:8080/"
        }
      },
      "outputs": [
        {
          "output_type": "stream",
          "name": "stdout",
          "text": [
            "Largest element in the list is: 99\n"
          ]
        }
      ],
      "source": [
        "def find_largest(list):\n",
        "    largest = list[0]\n",
        "    for i in list:\n",
        "        if i > largest:\n",
        "            largest = i\n",
        "    return largest\n",
        "\n",
        "numbers = [6, 8, 1, 15, 7, 99]\n",
        "print(\"Largest element in the list is:\", find_largest(numbers))"
      ]
    },
    {
      "cell_type": "markdown",
      "id": "86442b51",
      "metadata": {
        "id": "86442b51"
      },
      "source": [
        "### 5. Write a Python program to find second largest number in a list?"
      ]
    },
    {
      "cell_type": "code",
      "execution_count": 7,
      "id": "4c58e34a",
      "metadata": {
        "id": "4c58e34a",
        "outputId": "fe207e81-2fbd-4b8a-976d-67284153a924",
        "colab": {
          "base_uri": "https://localhost:8080/"
        }
      },
      "outputs": [
        {
          "output_type": "stream",
          "name": "stdout",
          "text": [
            "Second largest element is:  15\n"
          ]
        }
      ],
      "source": [
        "def second_largest(numbers):\n",
        "    first_max = max(numbers[0], numbers[1])\n",
        "    second_max = min(numbers[0], numbers[1])\n",
        "    for i in range(2, len(numbers)):\n",
        "        if numbers[i] > first_max:\n",
        "            second_max = first_max\n",
        "            first_max = numbers[i]\n",
        "        elif numbers[i] > second_max and numbers[i] != first_max:\n",
        "            second_max = numbers[i]\n",
        "    return second_max\n",
        "\n",
        "numbers = [6, 8, 1, 15, 7, 99]\n",
        "print(\"Second largest element is: \", second_largest(numbers))"
      ]
    },
    {
      "cell_type": "markdown",
      "id": "10964d7d",
      "metadata": {
        "id": "10964d7d"
      },
      "source": [
        "### 6. Write a Python program to find N largest elements from a list?"
      ]
    },
    {
      "cell_type": "code",
      "execution_count": 10,
      "id": "6dbaef03",
      "metadata": {
        "id": "6dbaef03",
        "colab": {
          "base_uri": "https://localhost:8080/"
        },
        "outputId": "813a4dad-b48f-4419-e836-35e41d2f8411"
      },
      "outputs": [
        {
          "output_type": "stream",
          "name": "stdout",
          "text": [
            "The 3 largest elements are: [100, 99, 50]\n"
          ]
        }
      ],
      "source": [
        "def n_largest(numbers, n):\n",
        "    numbers.sort(reverse=True)\n",
        "    return numbers[:n]\n",
        "\n",
        "numbers = [10, 20, 4, 45, 99, 100, 48, 20, 25, 50]\n",
        "\n",
        "n = 3\n",
        "print(\"The {} largest elements are: {}\".format(n, n_largest(numbers, n)))"
      ]
    },
    {
      "cell_type": "markdown",
      "id": "2f1a1e98",
      "metadata": {
        "id": "2f1a1e98"
      },
      "source": [
        "### 7. Write a Python program to print even numbers in a list?"
      ]
    },
    {
      "cell_type": "code",
      "execution_count": 11,
      "id": "3d732576",
      "metadata": {
        "id": "3d732576",
        "outputId": "1131a5e7-0bd2-49d4-eff9-2f343c5aba92",
        "colab": {
          "base_uri": "https://localhost:8080/"
        }
      },
      "outputs": [
        {
          "output_type": "stream",
          "name": "stdout",
          "text": [
            "Even numbers in the list:  [2, 4, 6, 8, 10]\n"
          ]
        }
      ],
      "source": [
        "def even_numbers(numbers):\n",
        "    return [x for x in numbers if x % 2 == 0]\n",
        "\n",
        "numbers = [1, 2, 3, 4, 5, 6, 7, 8, 9, 10]\n",
        "print(\"Even numbers in the list: \", even_numbers(numbers))"
      ]
    },
    {
      "cell_type": "markdown",
      "id": "989bb324",
      "metadata": {
        "id": "989bb324"
      },
      "source": [
        "### 8. Write a Python program to print odd numbers in a List?"
      ]
    },
    {
      "cell_type": "code",
      "execution_count": 16,
      "id": "a314aada",
      "metadata": {
        "id": "a314aada",
        "outputId": "8f203ab3-315e-42f7-f3bf-ff868f215b2f",
        "colab": {
          "base_uri": "https://localhost:8080/"
        }
      },
      "outputs": [
        {
          "output_type": "stream",
          "name": "stdout",
          "text": [
            "Odd numbers in the list:  [1, 3, 5, 7, 9]\n"
          ]
        }
      ],
      "source": [
        "def odd_numbers(numbers):\n",
        "    return [x for x in numbers if x % 2 != 0]\n",
        "\n",
        "numbers = [1, 2, 3, 4, 5, 6, 7, 8, 9, 10]\n",
        "print(\"Odd numbers in the list: \", odd_numbers(numbers))"
      ]
    },
    {
      "cell_type": "markdown",
      "id": "185b7b13",
      "metadata": {
        "id": "185b7b13"
      },
      "source": [
        "### 9. Write a Python program to Remove empty List from List?"
      ]
    },
    {
      "cell_type": "code",
      "execution_count": 17,
      "id": "9437d81b",
      "metadata": {
        "id": "9437d81b",
        "outputId": "b0324b62-f5d9-4409-c4df-997414171beb",
        "colab": {
          "base_uri": "https://localhost:8080/"
        }
      },
      "outputs": [
        {
          "output_type": "stream",
          "name": "stdout",
          "text": [
            "[[1, 2, 3], [4, 5, 6], [7, 8, 9]]\n"
          ]
        }
      ],
      "source": [
        "def remove_empty_lists(lists):\n",
        "    return [lst for lst in lists if lst]\n",
        "\n",
        "lists = [[1, 2, 3], [], [4, 5, 6], [], [7, 8, 9]]\n",
        "print(remove_empty_lists(lists))"
      ]
    },
    {
      "cell_type": "markdown",
      "id": "278cfacc",
      "metadata": {
        "id": "278cfacc"
      },
      "source": [
        "### 10. Write a Python program to Cloning or Copying a list?"
      ]
    },
    {
      "cell_type": "code",
      "execution_count": 18,
      "id": "670afc25",
      "metadata": {
        "id": "670afc25",
        "outputId": "5de43e13-c999-43b0-b5bf-cefc1a7cb7ad",
        "colab": {
          "base_uri": "https://localhost:8080/"
        }
      },
      "outputs": [
        {
          "output_type": "stream",
          "name": "stdout",
          "text": [
            "Copied list using slicing method:  [1, 2, 3, 4, 5]\n",
            "Copied list using built-in list function:  [1, 2, 3, 4, 5]\n"
          ]
        }
      ],
      "source": [
        "original_list = [1, 2, 3, 4, 5]\n",
        "\n",
        "# using slicing method\n",
        "\n",
        "copy_list_a = original_list[:]\n",
        "print(\"Copied list using slicing method: \", copy_list_a)\n",
        "\n",
        "# using built-in list function\n",
        "\n",
        "copy_list_b = list(original_list)\n",
        "print(\"Copied list using built-in list function: \", copy_list_b)"
      ]
    },
    {
      "cell_type": "markdown",
      "id": "b359bedf",
      "metadata": {
        "id": "b359bedf"
      },
      "source": [
        "### 11. Write a Python program to Count occurrences of an element in a list?"
      ]
    },
    {
      "cell_type": "code",
      "execution_count": 19,
      "id": "fcebaa59",
      "metadata": {
        "id": "fcebaa59",
        "colab": {
          "base_uri": "https://localhost:8080/"
        },
        "outputId": "16615f47-bee9-4d56-cb91-915bce0d239a"
      },
      "outputs": [
        {
          "output_type": "stream",
          "name": "stdout",
          "text": [
            "3 appears 2 times in the list.\n"
          ]
        }
      ],
      "source": [
        "def count_occurrences(numbers, x):\n",
        "    return numbers.count(x)\n",
        "\n",
        "numbers = [1, 2, 3, 4, 5, 6, 7, 8, 9, 3]\n",
        "x = 3\n",
        "print(\"{} appears {} times in the list.\".format(x, count_occurrences(numbers, x)))"
      ]
    }
  ],
  "metadata": {
    "kernelspec": {
      "display_name": "Python 3 (ipykernel)",
      "language": "python",
      "name": "python3"
    },
    "language_info": {
      "codemirror_mode": {
        "name": "ipython",
        "version": 3
      },
      "file_extension": ".py",
      "mimetype": "text/x-python",
      "name": "python",
      "nbconvert_exporter": "python",
      "pygments_lexer": "ipython3",
      "version": "3.9.7"
    },
    "colab": {
      "provenance": []
    }
  },
  "nbformat": 4,
  "nbformat_minor": 5
}